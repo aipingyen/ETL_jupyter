{
 "cells": [
  {
   "cell_type": "code",
   "execution_count": 1,
   "metadata": {
    "collapsed": true
   },
   "outputs": [],
   "source": [
    "import csv\n",
    "import sqlite3\n",
    "import pymysql\n",
    "\n",
    "class CK_mySQL: \n",
    "    IP = '192.168.196.36'\n",
    "    user='team1'\n",
    "    passwd = 'team1'\n",
    "    db= 'team1'\n"
   ]
  },
  {
   "cell_type": "code",
   "execution_count": 4,
   "metadata": {
    "scrolled": true
   },
   "outputs": [],
   "source": [
    "\n",
    "with open('./yahoo/dashes.csv', \"r\", encoding='Big5') as csvfile:\n",
    "    reader = csv.reader(csvfile)\n",
    "    conn = pymysql.connect(host=CK_mySQL.IP, port=3306, user=CK_mySQL.user, passwd=CK_mySQL.passwd, db=CK_mySQL.db,charset='utf8') \n",
    "    cur = conn.cursor() \n",
    "    # count = cur1.execute(\"SELECT count(*) FROM carTest where brand in('MAZDA','FORD') limit 100;\").fetchall()[0][0] \n",
    "\n",
    "    for line in reader:\n",
    "        query = (line[1].strip().upper(),line[0].strip().upper())\n",
    "\n",
    "        cur.execute(\"update model set model =%s where model=%s;\",query)\n",
    "        conn.commit()\n",
    "        \n",
    "    \n",
    "    conn.close()"
   ]
  },
  {
   "cell_type": "code",
   "execution_count": 34,
   "metadata": {
    "collapsed": true,
    "scrolled": true
   },
   "outputs": [],
   "source": [
    "conn = sqlite3.connect('/home/iii/SQLiteDB/yahoo_new_car0713.sqlite3')\n",
    "cursor = conn.cursor()\n",
    "cursor.execute(\"update yahooNewCars_clean2 set model = 'I-MAX' where model='i-Max';\")\n",
    "cursor.execute(\"update yahooNewCars_clean2 set model = 'X-TRAIL' where model='X-Trail';\")\n",
    "conn.commit()"
   ]
  },
  {
   "cell_type": "code",
   "execution_count": null,
   "metadata": {
    "collapsed": true
   },
   "outputs": [],
   "source": [
    "conn = sqlite3.connect('/home/ubuntu/SQLiteDB/yahoo_new_car0713.sqlite3')\n",
    "cursor = conn.cursor()\n",
    "cur.execute(\"update yahooNewCars_clean2 set model = ? where model=?;\",query)"
   ]
  }
 ],
 "metadata": {
  "kernelspec": {
   "display_name": "Python 3",
   "language": "python",
   "name": "python3"
  },
  "language_info": {
   "codemirror_mode": {
    "name": "ipython",
    "version": 3
   },
   "file_extension": ".py",
   "mimetype": "text/x-python",
   "name": "python",
   "nbconvert_exporter": "python",
   "pygments_lexer": "ipython3",
   "version": "3.6.1"
  }
 },
 "nbformat": 4,
 "nbformat_minor": 2
}
