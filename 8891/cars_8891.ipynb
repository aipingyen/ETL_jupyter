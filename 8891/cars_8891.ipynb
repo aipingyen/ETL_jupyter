{
 "cells": [
  {
   "cell_type": "code",
   "execution_count": 1,
   "metadata": {
    "collapsed": true
   },
   "outputs": [],
   "source": [
    "import requests\n",
    "from bs4 import BeautifulSoup\n",
    "import re\n",
    "import threading\n",
    "import time\n",
    "import json\n",
    "import pprint\n",
    "from random import randint\n",
    "import math\n",
    "import datetime"
   ]
  },
  {
   "cell_type": "code",
   "execution_count": 37,
   "metadata": {},
   "outputs": [
    {
     "data": {
      "text/plain": [
       "44748"
      ]
     },
     "execution_count": 37,
     "metadata": {},
     "output_type": "execute_result"
    }
   ],
   "source": [
    "with open('v3_data.txt','r') as f:\n",
    "    data=f.readlines()\n",
    "len(data)"
   ]
  },
  {
   "cell_type": "code",
   "execution_count": 67,
   "metadata": {
    "scrolled": true
   },
   "outputs": [
    {
     "data": {
      "text/plain": [
       "43135"
      ]
     },
     "execution_count": 67,
     "metadata": {},
     "output_type": "execute_result"
    }
   ],
   "source": [
    "with open('v3_result.txt','r') as f:\n",
    "    data=f.readlines()\n",
    "len(data)"
   ]
  },
  {
   "cell_type": "code",
   "execution_count": 68,
   "metadata": {},
   "outputs": [
    {
     "data": {
      "text/plain": [
       "694"
      ]
     },
     "execution_count": 68,
     "metadata": {},
     "output_type": "execute_result"
    }
   ],
   "source": [
    "with open('v3_fail_line.txt','r') as f:\n",
    "    data=f.readlines()\n",
    "len(data)"
   ]
  },
  {
   "cell_type": "code",
   "execution_count": 22,
   "metadata": {
    "scrolled": true
   },
   "outputs": [
    {
     "data": {
      "text/plain": [
       "{'auto_address': '桃園市',\n",
       " 'auto_brand_en': 'Subaru',\n",
       " 'auto_brand_id': '43',\n",
       " 'auto_gas_size': '2.5L',\n",
       " 'auto_make_date': '<b>2010</b>年',\n",
       " 'auto_mileage_num': '<b>6.5</b>萬公里',\n",
       " 'auto_price': '59.8',\n",
       " 'auto_price_tag': '<b>59.8</b>萬',\n",
       " 'auto_price_type': '2',\n",
       " 'auto_tab_name': '手自排',\n",
       " 'auto_title_all': '《摩鐵汽車廣場》有車在手，遙控啾啾兩聲 你就是帥哥！',\n",
       " 'auto_year_type': '2010',\n",
       " 'check_log': '',\n",
       " 'extra_tag': 0,\n",
       " 'id': '1437149',\n",
       " 'is_mobile': '0',\n",
       " 'is_realPrice': '1',\n",
       " 'is_red': '0',\n",
       " 'is_seven': 0,\n",
       " 'is_vip': '0',\n",
       " 'item_kind_name_cn': '',\n",
       " 'item_kind_name_en': 'Legacy Wagon',\n",
       " 'item_post_date': '2017-06-06 12:07:43',\n",
       " 'item_renew_date': '<font>53分鐘內更新</font>',\n",
       " 'item_show_num': '<span class=\"Red\">1962</span>',\n",
       " 'm_id': '280361',\n",
       " 'new_item_show_num': 1962,\n",
       " 'organi': '0',\n",
       " 'photo': 'https://p2.8891.com.tw/2017/06/06/1/1496721896866792_220_165.jpg',\n",
       " 'photoList': 'https://p2.8891.com.tw/2017/06/06/1/1496721896866792_300_225.jpg',\n",
       " 'photoNum': '20',\n",
       " 'survey_report': '0'}"
      ]
     },
     "execution_count": 22,
     "metadata": {},
     "output_type": "execute_result"
    }
   ],
   "source": [
    "res = requests.get('https://auto.8891.com.tw/usedauto-search.html?page=100')\n",
    "# print(res.text)\n",
    "js = json.loads(res.text)\n",
    "js['data']['data']['1']"
   ]
  },
  {
   "cell_type": "code",
   "execution_count": 22,
   "metadata": {
    "scrolled": false
   },
   "outputs": [
    {
     "name": "stdout",
     "output_type": "stream",
     "text": [
      "{'brand': 'Ford',\n",
      " 'cc': '1.6L',\n",
      " 'location': '新北市',\n",
      " 'mileage': '11.0',\n",
      " 'model': 'Tierra',\n",
      " 'posttime': '2017-04-18 13:21:02',\n",
      " 'price': '15.8',\n",
      " 'source': '8891',\n",
      " 'title': '05年TIERRA AERO XT )歡迎撥打免付費專線0800090977',\n",
      " 'transmission': '自排',\n",
      " 'url': 'https://auto.8891.com.tw/usedauto-infos-1388817.html',\n",
      " 'years': '2005'}\n"
     ]
    }
   ],
   "source": [
    "carDic={'source':'8891'}\n",
    "info = js['data']['data']['1']\n",
    "carDic['url']=  'https://auto.8891.com.tw/usedauto-infos-{}.html'.format(info['id'])\n",
    "carDic['title']= info['auto_title_all']\n",
    "carDic['brand']= info['auto_brand_en']\n",
    "carDic['model']= info['item_kind_name_en']\n",
    "carDic['cc']= info['auto_gas_size']\n",
    "carDic['transmission']= info['auto_tab_name']\n",
    "carDic['mileage']= info['auto_mileage_num'].split('<b>')[1].split('</b>')[0]\n",
    "carDic['years']= info['auto_year_type']\n",
    "carDic['location']= info['auto_address']\n",
    "carDic['posttime']= info['item_post_date']\n",
    "carDic['price']= info['auto_price']\n",
    "pprint.pprint(carDic)"
   ]
  },
  {
   "cell_type": "code",
   "execution_count": 8,
   "metadata": {
    "collapsed": true
   },
   "outputs": [],
   "source": [
    "#generate headers\n",
    "\n",
    "\n",
    "\n",
    "brand_list = ['AUDI', 'MERCEDES-BENZ', 'BMW', 'FORD', 'HONDA', 'LEXUS', 'MAZDA', 'MITSUBISHI',\n",
    "              'NISSAN', 'PORSCHE', 'SUZUKI', 'SUBARU', 'TOYOTA', 'VOLVO', 'VOLKSWAGEN']\n",
    "def gen_headers():\n",
    "    referers = ['tw.yahoo.com', 'www.google.com', 'http://www.msn.com/zh-tw/', 'http://www.pchome.com.tw/']\n",
    "    user_agents = ['Mozilla/5.0 (X11; CrOS x86_64 8172.45.0) AppleWebKit/537.36 (KHTML, like Gecko) Chrome/51.0.2704.64 Safari/537.36',\n",
    "             'Mozilla/5.0 (Macintosh; Intel Mac OS X 10_11_2) AppleWebKit/601.3.9 (KHTML, like Gecko) Version/9.0.2 Safari/601.3.9',\n",
    "              'Mozilla/5.0 (Windows NT 6.1; WOW64) AppleWebKit/537.36 (KHTML, like Gecko) Chrome/47.0.2526.111 Safari/537.36',\n",
    "              'Mozilla/5.0 (compatible; Googlebot/2.1; +http://www.google.com/bot.html)']\n",
    "    headers = {'user-agent': user_agents[randint(0, len(user_agents) - 1)],\n",
    "               'referer': referers[randint(0, len(referers) - 1)]}\n",
    "    return headers\n"
   ]
  },
  {
   "cell_type": "code",
   "execution_count": 9,
   "metadata": {},
   "outputs": [
    {
     "data": {
      "text/plain": [
       "50570"
      ]
     },
     "execution_count": 9,
     "metadata": {},
     "output_type": "execute_result"
    }
   ],
   "source": [
    "#get total number of cars\n",
    "\n",
    "def get_car_no(url):\n",
    "    \n",
    "    res = requests.get(url)\n",
    "    js = json.loads(res.text)\n",
    "    car_no=int(js['data']['total'])\n",
    "    \n",
    "    return car_no\n",
    "\n",
    "url='https://auto.8891.com.tw/usedauto-search.html?page=1'\n",
    "get_car_no(url)"
   ]
  },
  {
   "cell_type": "code",
   "execution_count": 18,
   "metadata": {
    "collapsed": true,
    "scrolled": true
   },
   "outputs": [],
   "source": [
    "#get url and first info group(without doors, color, gasoline, equip)\n",
    "def get_car_urls(brand_list,car_no,headers,file_out):\n",
    "   \n",
    "    page_no = math.ceil(car_no / 20)\n",
    "    \n",
    "    \n",
    "    for page in range(1,page_no+1):\n",
    "        count = 0\n",
    "        while count<3:\n",
    "            try:\n",
    "                url='https://auto.8891.com.tw/usedauto-search.html?page={}'.format(page)\n",
    "                res = requests.get(url,headers=headers)\n",
    "                js = json.loads(res.text)\n",
    "#                 print(js)\n",
    "                data=\"\"\n",
    "                \n",
    "                for i in range(1,len(js['data']['data'].keys())+1):\n",
    "                    info = js['data']['data'][str(i)] #index OOR solved!\n",
    "                    if(info['auto_brand_en'].upper() in brand_list):\n",
    "                        carDic={'source':'8891'}\n",
    "                        carDic['url'] = 'https://auto.8891.com.tw/usedauto-infos-{}.html'.format(info['id']) \n",
    "                        carDic['title']= info['auto_title_all']\n",
    "                        carDic['brand']= info['auto_brand_en']\n",
    "                        carDic['model']= info['item_kind_name_en']\n",
    "                        carDic['cc']= int(float(info['auto_gas_size'].lower().split('l')[0])*1000)\n",
    "                        carDic['transmission']= info['auto_tab_name']\n",
    "                        mile_search=re.search(r'[0-9.]+',info['auto_mileage_num'])\n",
    "                        wen_search = re.search(r'萬',info['auto_mileage_num'])\n",
    "                        if mile_search:\n",
    "                            if wen_search:\n",
    "                                carDic['mileage']= int(float(mile_search.group())*10000)\n",
    "                            else:\n",
    "                                carDic['mileage']= int(float(mile_search.group()))\n",
    "                        else:\n",
    "                            carDic['mileage']= -1\n",
    "                        carDic['years']= int(re.search(r'[0-9]+',info['auto_year_type']).group())\n",
    "                        carDic['location']= info['auto_address']\n",
    "                        date_str = info['item_post_date']\n",
    "                        carDic['posttime']= int(datetime.datetime.strptime(date_str, \"%Y-%m-%d %H:%M:%S\").timestamp())\n",
    "                        carDic['price']= float(info['auto_price'])\n",
    "                        data += \"{}|{}|{}\\n\".format(carDic['url'],carDic['posttime'],json.dumps(carDic, ensure_ascii=False))\n",
    "                    else:\n",
    "                        continue #jump over the car where its brand is not in our brand_list\n",
    "                with open(file_out,'a') as f:\n",
    "                    f.write(data)\n",
    "                with open('progress.csv','w') as f:\n",
    "                    f.write('{}\\n'.format(page))\n",
    "                break # after succefully write data, break while\n",
    "            except Exception as e:\n",
    "                count+=1\n",
    "                if count==3:\n",
    "                    message= 'fail page:{},error:{}'.format(page, e)\n",
    "                    print(message)\n",
    "#                     with open('debug.txt','a') as f:\n",
    "#                         f.write('{},{}'.format(info['auto_gas_size'],info['auto_mileage_num']))\n",
    "                \n",
    "            finally:\n",
    "                time.sleep(0.2)\n",
    "headers=gen_headers()\n",
    "get_car_urls(brand_list,50570,headers,'v3_data.txt')"
   ]
  }
 ],
 "metadata": {
  "kernelspec": {
   "display_name": "Python 3",
   "language": "python",
   "name": "python3"
  },
  "language_info": {
   "codemirror_mode": {
    "name": "ipython",
    "version": 3
   },
   "file_extension": ".py",
   "mimetype": "text/x-python",
   "name": "python",
   "nbconvert_exporter": "python",
   "pygments_lexer": "ipython3",
   "version": "3.6.1"
  }
 },
 "nbformat": 4,
 "nbformat_minor": 2
}
