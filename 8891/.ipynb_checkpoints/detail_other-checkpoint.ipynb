{
 "cells": [
  {
   "cell_type": "code",
   "execution_count": 34,
   "metadata": {
    "collapsed": true
   },
   "outputs": [],
   "source": [
    "import requests\n",
    "from bs4 import BeautifulSoup\n",
    "import re\n",
    "import threading\n",
    "import time\n",
    "import json\n",
    "import pprint\n",
    "from random import randint\n",
    "import sqlite3"
   ]
  },
  {
   "cell_type": "code",
   "execution_count": 35,
   "metadata": {
    "collapsed": true
   },
   "outputs": [],
   "source": [
    "\n",
    "referers = ['tw.yahoo.com', 'www.google.com', 'http://www.msn.com/zh-tw/', 'http://www.pchome.com.tw/']\n",
    "user_agents = ['Mozilla/5.0 (X11; CrOS x86_64 8172.45.0) AppleWebKit/537.36 (KHTML, like Gecko) Chrome/51.0.2704.64 Safari/537.36',\n",
    "             'Mozilla/5.0 (Macintosh; Intel Mac OS X 10_11_2) AppleWebKit/601.3.9 (KHTML, like Gecko) Version/9.0.2 Safari/601.3.9',\n",
    "              'Mozilla/5.0 (Windows NT 6.1; WOW64) AppleWebKit/537.36 (KHTML, like Gecko) Chrome/47.0.2526.111 Safari/537.36',\n",
    "              'Mozilla/5.0 (compatible; Googlebot/2.1; +http://www.google.com/bot.html)']\n",
    "\n",
    "brand_list = ['AUDI', 'BENZ', 'BMW', 'FORD', 'HONDA', 'LEXUS', 'MAZDA', 'MITSUBISHI',\n",
    "              'NISSAN', 'PORSCHE', 'SUZUKI', 'SUBARU', 'TOYOTA', 'VOLVO', 'VW']\n",
    "def gen_headers():\n",
    "    headers = {'user-agent': user_agents[randint(0, len(user_agents) - 1)],\n",
    "               'referer': referers[randint(0, len(referers) - 1)]}\n",
    "    return headers\n",
    "headers=gen_headers()"
   ]
  },
  {
   "cell_type": "code",
   "execution_count": 33,
   "metadata": {
    "scrolled": true
   },
   "outputs": [
    {
     "name": "stdout",
     "output_type": "stream",
     "text": [
      "{'source': '8891', 'title': '高雄巨將汽車宋小弟 車況超美超優 頂級天窗 雙安全氣囊 abs 認證+保固', 'brand': 'honda', 'model': 'cr-v', 'cc': '2.0l', 'transmission': '自排', 'mileage': '<b>17.9</b>萬公里', 'years': '2006', 'location': '高雄市', 'posttime': '2017-04-01 18:30:40', 'price': '30.8', 'color': '白', 'gasoline': '汽油', 'wd': '2WD', 'doors': '5門', 'certification': '其他', 'eqip': 'ABS防鎖死|中控鎖|防盜系統|倒車雷達|恆溫空調|多功能方向盤|真皮/皮革座椅'}\n",
      "{'source': '8891', 'title': '高雄巨將汽車宋小弟 柴油動力 頂級四安 一手車原廠保養 認證+保固', 'brand': 'ford', 'model': 'focus', 'cc': '2.0l', 'transmission': '手自排', 'mileage': '<b>13.8</b>萬公里', 'years': '2011', 'location': '高雄市', 'posttime': '2017-04-01 18:57:20', 'price': '34.8', 'color': '銀', 'gasoline': '柴油', 'wd': '2WD', 'doors': '4門', 'certification': 'hot', 'eqip': 'ABS防鎖死|防盜系統|倒車雷達|恆溫空調|真皮/皮革座椅'}\n",
      "{'source': '8891', 'title': '高雄巨將汽車宋小弟 一手車原廠保養 原廠保固中 恆溫空調 定速巡航', 'brand': 'toyota', 'model': 'camry', 'cc': '2.5l', 'transmission': '手自排', 'mileage': '<b>6.5</b>萬公里', 'years': '2014', 'location': '高雄市', 'posttime': '2017-04-02 17:10:18', 'price': '63.8', 'color': '白', 'gasoline': '汽油', 'wd': '2WD', 'doors': '4門', 'certification': 'hot', 'eqip': 'ABS防鎖死|中控鎖|防盜系統|倒車雷達|恆溫空調|多功能方向盤|真皮/皮革座椅|定速系統'}\n",
      "{'source': '8891', 'title': '高雄巨將汽車宋小弟 正11年 雙安全氣囊 abscd音響 省油省稅金 認證+保固', 'brand': 'toyota', 'model': 'vios', 'cc': '1.5l', 'transmission': '自排', 'mileage': '<b>14.1</b>萬公里', 'years': '2012', 'location': '高雄市', 'posttime': '2017-04-18 12:57:27', 'price': '29.8', 'color': '白', 'gasoline': '汽油', 'wd': '2WD', 'doors': '4門', 'certification': '其他', 'eqip': 'ABS防鎖死|中控鎖|防盜系統|倒車雷達|真皮/皮革座椅'}\n",
      "{'source': '8891', 'title': '高雄巨將汽車宋小弟 一手車原廠保養 強悍柴油動力 三顆安全氣囊 雙區恆溫空調', 'brand': 'ford', 'model': 'mondeo', 'cc': '2.0l', 'transmission': '自手排', 'mileage': '<b>5.4</b>萬公里', 'years': '2014', 'location': '高雄市', 'posttime': '2017-04-20 09:26:00', 'price': '66.8', 'color': '灰', 'gasoline': '柴油', 'wd': '2WD', 'doors': '4門', 'certification': '其他', 'eqip': '防盜系統|倒車雷達|恆溫空調'}\n",
      "{'source': '8891', 'title': '高雄巨將汽車宋小弟 原廠保固 一手車原廠保養 四安  方向盤快撥鍵  認證+保固', 'brand': 'ford', 'model': 'focus', 'cc': '2.0l', 'transmission': '手自排', 'mileage': '<b>2.8</b>萬公里', 'years': '2015', 'location': '高雄市', 'posttime': '2017-04-22 17:04:58', 'price': '55.8', 'color': '白', 'gasoline': '汽油', 'wd': '2WD', 'doors': '5門', 'certification': '其他', 'eqip': 'ABS防鎖死|中控鎖|防盜系統|動態穩定系統|循跡系統|剎車輔助系統|兒童安全椅固定裝置|倒車雷達|恆溫空調|LED頭燈|多功能方向盤|自動停車系統|電動天窗|真皮/皮革座椅|定速系統'}\n",
      "{'source': '8891', 'title': '高雄巨將汽車宋小弟 新車價112萬2.4頂級g版 天窗四安 雙電動椅 雙區恆溫空調', 'brand': 'toyota', 'model': 'camry', 'cc': '2.4l', 'transmission': '手自排', 'mileage': '<b>5.9</b>萬公里', 'years': '2010', 'location': '高雄市', 'posttime': '2017-04-23 11:03:03', 'price': '58.8', 'color': '黑', 'gasoline': '汽油', 'wd': '2WD', 'doors': '4門', 'certification': '其他', 'eqip': 'ABS防鎖死|中控鎖|防盜系統|胎壓偵測|動態穩定系統|keyless免鑰系統|循跡系統|剎車輔助系統|兒童安全椅固定裝置|倒車雷達|倒車顯影系統|恆溫空調|多功能方向盤|電動天窗|真皮/皮革座椅|定速系統'}\n",
      "{'source': '8891', 'title': '高雄巨將汽車宋小弟 正14年10月 才跑5萬公里 五門轎跑 省油省稅金', 'brand': 'ford', 'model': 'fiesta', 'cc': '1.5l', 'transmission': '自手排', 'mileage': '<b>5.0</b>萬公里', 'years': '2014', 'location': '高雄市', 'posttime': '2017-05-06 09:39:19', 'price': '43.8', 'color': '灰', 'gasoline': '汽油', 'wd': '2WD', 'doors': '5門', 'certification': '其他', 'eqip': 'ABS防鎖死|中控鎖|防盜系統|倒車雷達|多功能方向盤|真皮/皮革座椅'}\n",
      "{'source': '8891', 'title': '◈01新堅達◈掀頭 柴油渦輪 折疊式雙芯油壓軸升降電尾門 冷氣冷 全額貸免保人', 'brand': 'mitsubishi', 'model': 'canter', 'cc': '2.8l', 'transmission': '手排', 'mileage': '<b>20.4</b>萬公里', 'years': '2001', 'location': '新北市', 'posttime': '2017-05-07 19:46:04', 'price': '19.8', 'color': '藍', 'gasoline': '柴油', 'wd': '2WD', 'doors': '2門', 'certification': 'na', 'eqip': '倒車雷達|真皮/皮革座椅'}\n",
      "{'source': '8891', 'title': '『暴走一族』空力套件燻黑頭燈 可調避震 換檔快撥 天窗 io賽車椅 免頭款全額貸', 'brand': 'mitsubishi', 'model': 'virage', 'cc': '1.8l', 'transmission': '手自排', 'mileage': '<b>11.5</b>萬公里', 'years': '2004', 'location': '新北市', 'posttime': '2017-05-07 20:16:42', 'price': '9.8', 'color': '黑', 'gasoline': '汽油', 'wd': '2WD', 'doors': '4門', 'certification': 'na', 'eqip': 'ABS防鎖死|中控鎖|防盜系統|兒童安全椅固定裝置|安全氣囊|倒車雷達|多功能方向盤|電動天窗'}\n",
      "{'source': '8891', 'title': '高雄巨將汽車宋小弟 四安 循跡 斜坡起步 方向盤快撥 分區控溫  認證+保固', 'brand': 'ford', 'model': 'focus', 'cc': '1.6l', 'transmission': '自手排', 'mileage': '<b>5.5</b>萬公里', 'years': '2014', 'location': '高雄市', 'posttime': '2017-05-11 13:31:54', 'price': '46.8', 'color': '銀', 'gasoline': '汽油', 'wd': '2WD', 'doors': '5門', 'certification': 'hot', 'eqip': 'ABS防鎖死|中控鎖|防盜系統|動態穩定系統|循跡系統|剎車輔助系統|倒車雷達|恆溫空調|多功能方向盤|真皮/皮革座椅'}\n"
     ]
    }
   ],
   "source": [
    "with open('fail_line.txt','r') as f:\n",
    "    data = f.readlines()\n",
    "    \n",
    "for line in data:\n",
    "    carDic={}\n",
    "    infos=line.split('\\n')[0].split('|')\n",
    "    carDic=json.loads(infos[2])\n",
    "    url =infos[0]\n",
    "    res = requests.get(url, headers=headers)\n",
    "    soup = BeautifulSoup(res.text,'lxml')\n",
    "    carDic['color'] = soup.select('.mb-info span')[3].text.strip('色')\n",
    "    carDic['gasoline'] = soup.select('.auto_standard span')[1].text.strip('車')\n",
    "    carDic['wd'] = soup.select('.auto_standard span')[2].text\n",
    "    carDic['doors'] = soup.select('.auto_standard span')[4].text\n",
    "    \n",
    "    certi_list=['sum','save','hot']\n",
    "    if soup.select_one('.auto-check-t'):\n",
    "        text =soup.select_one('.auto-check-t').text.lower()\n",
    "        keyword = re.search(r'[a-z]+',text).group()\n",
    "        if keyword in certi_list:\n",
    "            carDic['certification'] = keyword\n",
    "        else:\n",
    "            carDic['certification'] = '其他'\n",
    "    else:\n",
    "        carDic['certification'] = 'na'\n",
    "\n",
    "    equip=''\n",
    "    for item in soup.select('.additionConfig'):\n",
    "        equip += '{}|'.format(item.text)\n",
    "    carDic['eqip'] = equip.strip('|')\n",
    "    print(carDic)"
   ]
  },
  {
   "cell_type": "code",
   "execution_count": 31,
   "metadata": {
    "collapsed": true
   },
   "outputs": [],
   "source": [
    "def get_car_infos(headers,fileIn,fileOut):\n",
    "    with open(fileIn,'r') as f:\n",
    "        data = f.readlines()\n",
    "    success=0\n",
    "    for line in data:\n",
    "        carDic={}\n",
    "        infos=line.split('\\n')[0].split('|')\n",
    "        carDic=json.loads(infos[2])\n",
    "        url =infos[0]\n",
    "\n",
    "        count = 0\n",
    "        \n",
    "        while count<3:\n",
    "            try:\n",
    "\n",
    "                res = requests.get(url, headers=headers)\n",
    "                soup = BeautifulSoup(res.text,'lxml')\n",
    "                carDic['color'] = soup.select('.right-info .car-info ul li span')[7].text.strip('色')\n",
    "                carDic['doors'] = soup.select('.car-detail-equipment .car-detail-base span')[1].text.split(\"：\")[1]\n",
    "                carDic['gasoline'] = soup.select('.car-detail-equipment .car-detail-base span')[2].text.split(\"：\")[1].strip('車')\n",
    "                carDic['wd'] = soup.select('.car-detail-equipment .car-detail-base span')[4].text.split(\"：\")[1]\n",
    "                \n",
    "    #             print(soup.select('.check-show-info .tip')[1])\n",
    "                if soup.select('div.tip > a'):\n",
    "                    carDic['certificate'] = '其他'\n",
    "                else:\n",
    "                    carDic['certificate'] = 'NA'\n",
    "\n",
    "                equip=''\n",
    "                for item in soup.select('.car-equipment-show .info'):\n",
    "                    equip += '{}|'.format(item.text)\n",
    "                carDic['eqip'] = equip.strip('|')\n",
    "\n",
    "                with open(fileOut,'a') as f:\n",
    "                    f.write('{}\\n'.format(json.dumps(carDic, ensure_ascii=False)))\n",
    "                \n",
    "                cursor.execute('INSERT INTO icars VALUES (?, ?, ?, ?, ?, ?, ?, ?, ?, ?, ?, ?, ?, ?, ?, ?, ?, ?)',\n",
    "               (carDic['source'], carDic['url'] , carDic['title'], carDic['brand'], carDic['model'], carDic['doors'], \n",
    "                carDic['color'], carDic['gasoline'], carDic['cc'], carDic['transmission'], carDic['equip'],\n",
    "                carDic['mileage'], carDic['years'], carDic['location'], carDic['posttime'], \n",
    "                carDic['price'], carDic['certificate'], carDic['wd']))\n",
    "                conn.commit()\n",
    "                break\n",
    "#             except IndexError:\n",
    "                \n",
    "            except Exception as e:\n",
    "                count+=1\n",
    "                if count==3:\n",
    "                    message= 'fail url={},error:{}'.format(url, e)\n",
    "                    print(message)\n",
    "                    with open('fail_line0614.txt','a') as f:\n",
    "                        f.write(line)\n",
    "            finally:\n",
    "                time.sleep(0.2)\n",
    "    return success\n",
    "headers=gen_headers()\n",
    "fileIn='data0614-split.txt'\n",
    "fileOut='detail0614-split.txt'\n",
    "get_car_infos(headers,fileIn,fileOut)"
   ]
  },
  {
   "cell_type": "code",
   "execution_count": 36,
   "metadata": {
    "collapsed": true
   },
   "outputs": [],
   "source": [
    "conn = sqlite3.connect('/home/ubuntu/SQLiteDB/testCar.db')\n"
   ]
  },
  {
   "cell_type": "code",
   "execution_count": 39,
   "metadata": {},
   "outputs": [
    {
     "name": "stderr",
     "output_type": "stream",
     "text": [
      "ERROR:root:An unexpected error occurred while tokenizing input\n",
      "The following traceback may be corrupted or invalid\n",
      "The error message is: ('EOF in multi-line string', (1, 63))\n",
      "\n"
     ]
    },
    {
     "ename": "OperationalError",
     "evalue": "table cars already exists",
     "output_type": "error",
     "traceback": [
      "\u001b[0;31m---------------------------------------------------------------------------\u001b[0m",
      "\u001b[0;31mOperationalError\u001b[0m                          Traceback (most recent call last)",
      "\u001b[0;32m<ipython-input-39-17a591d15152>\u001b[0m in \u001b[0;36m<module>\u001b[0;34m()\u001b[0m\n\u001b[1;32m      3\u001b[0m              (source text, title text, brand text, model text, doors text, color text, gasoline text,\n\u001b[1;32m      4\u001b[0m              \u001b[0mcc\u001b[0m \u001b[0mINTEGER\u001b[0m \u001b[0;34m,\u001b[0m \u001b[0mtransmission\u001b[0m \u001b[0mtext\u001b[0m\u001b[0;34m,\u001b[0m \u001b[0mequip\u001b[0m \u001b[0mtext\u001b[0m\u001b[0;34m,\u001b[0m \u001b[0mmileage\u001b[0m \u001b[0mINTEGER\u001b[0m \u001b[0;34m,\u001b[0m \u001b[0myears\u001b[0m \u001b[0mINTEGER\u001b[0m \u001b[0;34m,\u001b[0m \u001b[0mlocation\u001b[0m \u001b[0mtext\u001b[0m\u001b[0;34m,\u001b[0m\u001b[0;34m\u001b[0m\u001b[0m\n\u001b[0;32m----> 5\u001b[0;31m              posttime INTEGER, price NUMERIC, certificate text)''')\n\u001b[0m",
      "\u001b[0;31mOperationalError\u001b[0m: table cars already exists"
     ]
    }
   ],
   "source": [
    "cursor = conn.cursor()\n",
    "cursor.execute('''CREATE TABLE cars\n",
    "             (source text, url text, title text, brand text, model text, doors text, color text, gasoline text,\n",
    "             cc INTEGER , transmission text, equip text, mileage INTEGER , years INTEGER , location text, \n",
    "             posttime INTEGER, price NUMERIC, certificate text, wd text)''')"
   ]
  },
  {
   "cell_type": "code",
   "execution_count": 42,
   "metadata": {},
   "outputs": [
    {
     "data": {
      "text/plain": [
       "425"
      ]
     },
     "execution_count": 42,
     "metadata": {},
     "output_type": "execute_result"
    }
   ],
   "source": [
    "with open('v2_result.txt','r') as f:\n",
    "    data = f.readlines()\n",
    "len(data)"
   ]
  },
  {
   "cell_type": "code",
   "execution_count": 38,
   "metadata": {},
   "outputs": [
    {
     "name": "stdout",
     "output_type": "stream",
     "text": [
      "20\n"
     ]
    }
   ],
   "source": [
    "with open('v2_result.txt','r') as f:\n",
    "    data = f.readlines()\n",
    "equip_set=set()\n",
    "for line in data:\n",
    "    js=json.loads(line)\n",
    "    equips=js['equip'].split('|')\n",
    "    for item in equips:\n",
    "        equip_set.add(item)\n",
    "with open('result.txt','r') as f:\n",
    "    data = f.readlines()\n",
    "equip_set=set()\n",
    "for line in data:\n",
    "    js=json.loads(line)\n",
    "    equips=js['eqip'].split('|')\n",
    "    for item in equips:\n",
    "        equip_set.add(item)\n",
    "print(len(equip_set))"
   ]
  },
  {
   "cell_type": "code",
   "execution_count": 33,
   "metadata": {},
   "outputs": [
    {
     "name": "stdout",
     "output_type": "stream",
     "text": [
      "20\n"
     ]
    }
   ],
   "source": [
    "import json\n",
    "with open('result.txt','r') as f:\n",
    "    data = f.readlines()\n",
    "equip_set=set()\n",
    "for line in data:\n",
    "    js=json.loads(line)\n",
    "    equips=js['eqip'].split('|')\n",
    "    for item in equips:\n",
    "        equip_set.add(item)\n",
    "for item in equip_set:\n",
    "    with open('8891_equips.csv', 'a') as f:\n",
    "        f.write('{},'.format(item))\n",
    "print(len(equip_set))"
   ]
  },
  {
   "cell_type": "code",
   "execution_count": null,
   "metadata": {
    "collapsed": true
   },
   "outputs": [],
   "source": []
  }
 ],
 "metadata": {
  "kernelspec": {
   "display_name": "Python 3",
   "language": "python",
   "name": "python3"
  },
  "language_info": {
   "codemirror_mode": {
    "name": "ipython",
    "version": 3
   },
   "file_extension": ".py",
   "mimetype": "text/x-python",
   "name": "python",
   "nbconvert_exporter": "python",
   "pygments_lexer": "ipython3",
   "version": "3.6.1"
  }
 },
 "nbformat": 4,
 "nbformat_minor": 2
}
