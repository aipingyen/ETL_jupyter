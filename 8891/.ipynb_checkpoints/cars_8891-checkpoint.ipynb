{
 "cells": [
  {
   "cell_type": "code",
   "execution_count": 1,
   "metadata": {
    "collapsed": true
   },
   "outputs": [],
   "source": [
    "import requests\n",
    "from bs4 import BeautifulSoup\n",
    "import re\n",
    "import threading\n",
    "import time\n",
    "import json\n",
    "import pprint\n",
    "from random import randint\n",
    "import math\n",
    "import datetime"
   ]
  },
  {
   "cell_type": "code",
   "execution_count": 70,
   "metadata": {
    "scrolled": true
   },
   "outputs": [
    {
     "data": {
      "text/plain": [
       "262"
      ]
     },
     "execution_count": 70,
     "metadata": {},
     "output_type": "execute_result"
    }
   ],
   "source": [
    "with open('v3_result.txt','r') as f:\n",
    "    data=f.readlines()\n",
    "len(data)"
   ]
  },
  {
   "cell_type": "code",
   "execution_count": 71,
   "metadata": {},
   "outputs": [
    {
     "data": {
      "text/plain": [
       "57"
      ]
     },
     "execution_count": 71,
     "metadata": {},
     "output_type": "execute_result"
    }
   ],
   "source": [
    "with open('v3_fail_line.txt','r') as f:\n",
    "    data=f.readlines()\n",
    "len(data)"
   ]
  },
  {
   "cell_type": "code",
   "execution_count": 22,
   "metadata": {
    "scrolled": true
   },
   "outputs": [
    {
     "data": {
      "text/plain": [
       "{'auto_address': '桃園市',\n",
       " 'auto_brand_en': 'Subaru',\n",
       " 'auto_brand_id': '43',\n",
       " 'auto_gas_size': '2.5L',\n",
       " 'auto_make_date': '<b>2010</b>年',\n",
       " 'auto_mileage_num': '<b>6.5</b>萬公里',\n",
       " 'auto_price': '59.8',\n",
       " 'auto_price_tag': '<b>59.8</b>萬',\n",
       " 'auto_price_type': '2',\n",
       " 'auto_tab_name': '手自排',\n",
       " 'auto_title_all': '《摩鐵汽車廣場》有車在手，遙控啾啾兩聲 你就是帥哥！',\n",
       " 'auto_year_type': '2010',\n",
       " 'check_log': '',\n",
       " 'extra_tag': 0,\n",
       " 'id': '1437149',\n",
       " 'is_mobile': '0',\n",
       " 'is_realPrice': '1',\n",
       " 'is_red': '0',\n",
       " 'is_seven': 0,\n",
       " 'is_vip': '0',\n",
       " 'item_kind_name_cn': '',\n",
       " 'item_kind_name_en': 'Legacy Wagon',\n",
       " 'item_post_date': '2017-06-06 12:07:43',\n",
       " 'item_renew_date': '<font>53分鐘內更新</font>',\n",
       " 'item_show_num': '<span class=\"Red\">1962</span>',\n",
       " 'm_id': '280361',\n",
       " 'new_item_show_num': 1962,\n",
       " 'organi': '0',\n",
       " 'photo': 'https://p2.8891.com.tw/2017/06/06/1/1496721896866792_220_165.jpg',\n",
       " 'photoList': 'https://p2.8891.com.tw/2017/06/06/1/1496721896866792_300_225.jpg',\n",
       " 'photoNum': '20',\n",
       " 'survey_report': '0'}"
      ]
     },
     "execution_count": 22,
     "metadata": {},
     "output_type": "execute_result"
    }
   ],
   "source": [
    "res = requests.get('https://auto.8891.com.tw/usedauto-search.html?page=100')\n",
    "# print(res.text)\n",
    "js = json.loads(res.text)\n",
    "js['data']['data']['1']"
   ]
  },
  {
   "cell_type": "code",
   "execution_count": 22,
   "metadata": {
    "scrolled": false
   },
   "outputs": [
    {
     "name": "stdout",
     "output_type": "stream",
     "text": [
      "{'brand': 'Ford',\n",
      " 'cc': '1.6L',\n",
      " 'location': '新北市',\n",
      " 'mileage': '11.0',\n",
      " 'model': 'Tierra',\n",
      " 'posttime': '2017-04-18 13:21:02',\n",
      " 'price': '15.8',\n",
      " 'source': '8891',\n",
      " 'title': '05年TIERRA AERO XT )歡迎撥打免付費專線0800090977',\n",
      " 'transmission': '自排',\n",
      " 'url': 'https://auto.8891.com.tw/usedauto-infos-1388817.html',\n",
      " 'years': '2005'}\n"
     ]
    }
   ],
   "source": [
    "carDic={'source':'8891'}\n",
    "info = js['data']['data']['1']\n",
    "carDic['url']=  'https://auto.8891.com.tw/usedauto-infos-{}.html'.format(info['id'])\n",
    "carDic['title']= info['auto_title_all']\n",
    "carDic['brand']= info['auto_brand_en']\n",
    "carDic['model']= info['item_kind_name_en']\n",
    "carDic['cc']= info['auto_gas_size']\n",
    "carDic['transmission']= info['auto_tab_name']\n",
    "carDic['mileage']= info['auto_mileage_num'].split('<b>')[1].split('</b>')[0]\n",
    "carDic['years']= info['auto_year_type']\n",
    "carDic['location']= info['auto_address']\n",
    "carDic['posttime']= info['item_post_date']\n",
    "carDic['price']= info['auto_price']\n",
    "pprint.pprint(carDic)"
   ]
  },
  {
   "cell_type": "code",
   "execution_count": 8,
   "metadata": {
    "collapsed": true
   },
   "outputs": [],
   "source": [
    "#generate headers\n",
    "\n",
    "\n",
    "\n",
    "brand_list = ['AUDI', 'MERCEDES-BENZ', 'BMW', 'FORD', 'HONDA', 'LEXUS', 'MAZDA', 'MITSUBISHI',\n",
    "              'NISSAN', 'PORSCHE', 'SUZUKI', 'SUBARU', 'TOYOTA', 'VOLVO', 'VOLKSWAGEN']\n",
    "def gen_headers():\n",
    "    referers = ['tw.yahoo.com', 'www.google.com', 'http://www.msn.com/zh-tw/', 'http://www.pchome.com.tw/']\n",
    "    user_agents = ['Mozilla/5.0 (X11; CrOS x86_64 8172.45.0) AppleWebKit/537.36 (KHTML, like Gecko) Chrome/51.0.2704.64 Safari/537.36',\n",
    "             'Mozilla/5.0 (Macintosh; Intel Mac OS X 10_11_2) AppleWebKit/601.3.9 (KHTML, like Gecko) Version/9.0.2 Safari/601.3.9',\n",
    "              'Mozilla/5.0 (Windows NT 6.1; WOW64) AppleWebKit/537.36 (KHTML, like Gecko) Chrome/47.0.2526.111 Safari/537.36',\n",
    "              'Mozilla/5.0 (compatible; Googlebot/2.1; +http://www.google.com/bot.html)']\n",
    "    headers = {'user-agent': user_agents[randint(0, len(user_agents) - 1)],\n",
    "               'referer': referers[randint(0, len(referers) - 1)]}\n",
    "    return headers\n"
   ]
  },
  {
   "cell_type": "code",
   "execution_count": 9,
   "metadata": {},
   "outputs": [
    {
     "data": {
      "text/plain": [
       "50570"
      ]
     },
     "execution_count": 9,
     "metadata": {},
     "output_type": "execute_result"
    }
   ],
   "source": [
    "#get total number of cars\n",
    "\n",
    "def get_car_no(url):\n",
    "    \n",
    "    res = requests.get(url)\n",
    "    js = json.loads(res.text)\n",
    "    car_no=int(js['data']['total'])\n",
    "    \n",
    "    return car_no\n",
    "\n",
    "url='https://auto.8891.com.tw/usedauto-search.html?page=1'\n",
    "get_car_no(url)"
   ]
  },
  {
   "cell_type": "code",
   "execution_count": 18,
   "metadata": {
    "scrolled": true
   },
   "outputs": [],
   "source": [
    "#get url and first info group(without doors, color, gasoline, equip)\n",
    "def get_car_urls(brand_list,car_no,headers,file_out):\n",
    "   \n",
    "    page_no = math.ceil(car_no / 20)\n",
    "    \n",
    "    \n",
    "    for page in range(1,page_no+1):\n",
    "        count = 0\n",
    "        while count<3:\n",
    "            try:\n",
    "                url='https://auto.8891.com.tw/usedauto-search.html?page={}'.format(page)\n",
    "                res = requests.get(url,headers=headers)\n",
    "                js = json.loads(res.text)\n",
    "#                 print(js)\n",
    "                data=\"\"\n",
    "                \n",
    "                for i in range(1,len(js['data']['data'].keys())+1):\n",
    "                    info = js['data']['data'][str(i)] #index OOR solved!\n",
    "                    if(info['auto_brand_en'].upper() in brand_list):\n",
    "                        carDic={'source':'8891'}\n",
    "                        carDic['url'] = 'https://auto.8891.com.tw/usedauto-infos-{}.html'.format(info['id']) \n",
    "                        carDic['title']= info['auto_title_all']\n",
    "                        carDic['brand']= info['auto_brand_en']\n",
    "                        carDic['model']= info['item_kind_name_en']\n",
    "                        carDic['cc']= int(float(info['auto_gas_size'].lower().split('l')[0])*1000)\n",
    "                        carDic['transmission']= info['auto_tab_name']\n",
    "                        mile_search=re.search(r'[0-9.]+',info['auto_mileage_num'])\n",
    "                        wen_search = re.search(r'萬',info['auto_mileage_num'])\n",
    "                        if mile_search:\n",
    "                            if wen_search:\n",
    "                                carDic['mileage']= int(float(mile_search.group())*10000)\n",
    "                            else:\n",
    "                                carDic['mileage']= int(float(mile_search.group()))\n",
    "                        else:\n",
    "                            carDic['mileage']= -1\n",
    "                        carDic['years']= int(re.search(r'[0-9]+',info['auto_year_type']).group())\n",
    "                        carDic['location']= info['auto_address']\n",
    "                        date_str = info['item_post_date']\n",
    "                        carDic['posttime']= int(datetime.datetime.strptime(date_str, \"%Y-%m-%d %H:%M:%S\").timestamp())\n",
    "                        carDic['price']= float(info['auto_price'])\n",
    "                        data += \"{}|{}|{}\\n\".format(carDic['url'],carDic['posttime'],json.dumps(carDic, ensure_ascii=False))\n",
    "                    else:\n",
    "                        continue #jump over the car where its brand is not in our brand_list\n",
    "                with open(file_out,'a') as f:\n",
    "                    f.write(data)\n",
    "                with open('progress.csv','w') as f:\n",
    "                    f.write('{}\\n'.format(page))\n",
    "                break # after succefully write data, break while\n",
    "            except Exception as e:\n",
    "                count+=1\n",
    "                if count==3:\n",
    "                    message= 'fail page:{},error:{}'.format(page, e)\n",
    "                    print(message)\n",
    "#                     with open('debug.txt','a') as f:\n",
    "#                         f.write('{},{}'.format(info['auto_gas_size'],info['auto_mileage_num']))\n",
    "                \n",
    "            finally:\n",
    "                time.sleep(0.2)\n",
    "headers=gen_headers()\n",
    "get_car_urls(brand_list,50570,headers,'v3_data.txt')"
   ]
  },
  {
   "cell_type": "code",
   "execution_count": 5,
   "metadata": {},
   "outputs": [
    {
     "data": {
      "text/plain": [
       "<html><body><p>{\"status\":200,\"message\":\"ok\",\"data\":{\"data\":{\"1\":{\"id\":\"1444379\",\"auto_title_all\":\"\\u4fe1\\u7528\\u7455\\u75b5\\u5354\\u5546\\u7686\\u53ef\\u8fa6 \\u4fdd\\u8b49\\u6709\\u8eca 2006 CAMRY 3.5 V\\u7248 \\u53ef\\u5168\\u984d\\u8cb8\",\"m_id\":\"200609\",\"auto_price\":\"10.8\",\"auto_make_date\":\"<b>2006\\u5e74\",\"item_show_num\":357,\"new_item_show_num\":357,\"auto_brand_id\":\"46\",\"auto_brand_en\":\"Toyota\",\"item_kind_name_en\":\"Camry\",\"item_kind_name_cn\":\"\",\"item_renew_date\":\"<font>27\\u5206\\u9418\\u5167\\u66f4\\u65b0\",\"item_post_date\":\"2017-06-13 16:07:44\",\"photoNum\":\"20\",\"photo\":\"https:\\/\\/p2.8891.com.tw\\/2017\\/06\\/13\\/9\\/1497341211153232_220_165.jpg\",\"photoList\":\"https:\\/\\/p2.8891.com.tw\\/2017\\/06\\/13\\/9\\/1497341211153232_300_225.jpg\",\"auto_price_tag\":\"<b>10.8\\u842c\",\"auto_price_type\":\"2\",\"auto_gas_size\":\"3.5L\",\"check_log\":\"\",\"is_vip\":\"1\",\"is_red\":\"0\",\"is_realPrice\":\"1\",\"is_seven\":0,\"auto_mileage_num\":\"<b>12.0\\u842c\\u516c\\u91cc\",\"extra_tag\":0,\"survey_report\":\"0\",\"organi\":\"0\",\"is_mobile\":\"0\",\"auto_address\":\"\\u81fa\\u4e2d\\u5e02\",\"auto_tab_name\":\"\\u624b\\u81ea\\u6392\",\"auto_year_type\":\"2006\"},\"2\":{\"id\":\"1444454\",\"auto_title_all\":\"\\u5be6\\u50f9\\u767b\\u9304 \\u4fdd\\u8b49\\u6709\\u8eca 2012 CAMRY 2.0 E\\u7248 \\u5f71\\u97f3 \\u53ef\\u5168\\u984d\\u8cb8\",\"m_id\":\"200609\",\"auto_price\":\"34.3\",\"auto_make_date\":\"<b>2012\\u5e74\",\"item_show_num\":364,\"new_item_show_num\":364,\"auto_brand_id\":\"46\",\"auto_brand_en\":\"Toyota\",\"item_kind_name_en\":\"Camry\",\"item_kind_name_cn\":\"\",\"item_renew_date\":\"<font>27\\u5206\\u9418\\u5167\\u66f4\\u65b0\",\"item_post_date\":\"2017-06-13 16:48:51\",\"photoNum\":\"19\",\"photo\":\"https:\\/\\/p2.8891.com.tw\\/2017\\/06\\/26\\/9\\/1498459512328150_220_165.jpg\",\"photoList\":\"https:\\/\\/p2.8891.com.tw\\/2017\\/06\\/26\\/9\\/1498459512328150_300_225.jpg\",\"auto_price_tag\":\"<b>34.3\\u842c\",\"auto_price_type\":\"2\",\"auto_gas_size\":\"2.0L\",\"check_log\":\"\",\"is_vip\":\"1\",\"is_red\":\"0\",\"is_realPrice\":\"1\",\"is_seven\":0,\"auto_mileage_num\":\"<b>7.1\\u842c\\u516c\\u91cc\",\"extra_tag\":0,\"survey_report\":\"0\",\"organi\":\"0\",\"is_mobile\":\"0\",\"auto_address\":\"\\u81fa\\u4e2d\\u5e02\",\"auto_tab_name\":\"\\u624b\\u81ea\\u6392\",\"auto_year_type\":\"2012\"},\"3\":{\"id\":\"1445633\",\"auto_title_all\":\"\\u5be6\\u50f9\\u767b\\u9304 \\u4fdd\\u8b49\\u6709\\u8eca 2013 FOCUS 2.0 5\\u9580 \\u53ef\\u5168\\u984d\\u8cb8\",\"m_id\":\"200609\",\"auto_price\":\"30.8\",\"auto_make_date\":\"<b>2013\\u5e74\",\"item_show_num\":125,\"new_item_show_num\":125,\"auto_brand_id\":\"15\",\"auto_brand_en\":\"Ford\",\"item_kind_name_en\":\"Focus\",\"item_kind_name_cn\":\"\",\"item_renew_date\":\"<font>27\\u5206\\u9418\\u5167\\u66f4\\u65b0\",\"item_post_date\":\"2017-06-14 16:37:30\",\"photoNum\":\"20\",\"photo\":\"https:\\/\\/p1.8891.com.tw\\/2017\\/05\\/01\\/9\\/1493605964562357_220_165.jpg\",\"photoList\":\"https:\\/\\/p1.8891.com.tw\\/2017\\/05\\/01\\/9\\/1493605964562357_300_225.jpg\",\"auto_price_tag\":\"<b>30.8\\u842c\",\"auto_price_type\":\"2\",\"auto_gas_size\":\"2.0L\",\"check_log\":\"\",\"is_vip\":\"1\",\"is_red\":\"0\",\"is_realPrice\":\"1\",\"is_seven\":0,\"auto_mileage_num\":\"<b>7.3\\u842c\\u516c\\u91cc\",\"extra_tag\":0,\"survey_report\":\"0\",\"organi\":\"0\",\"is_mobile\":\"0\",\"auto_address\":\"\\u81fa\\u4e2d\\u5e02\",\"auto_tab_name\":\"\\u624b\\u81ea\\u6392\",\"auto_year_type\":\"2013\"},\"4\":{\"id\":\"1450035\",\"auto_title_all\":\"\\u4fe1\\u7528\\u7455\\u75b5\\u5354\\u5546\\u7686\\u53ef\\u8fa6 \\u4fdd\\u8b49\\u6709\\u8eca 2007 CAMRY 2.4 G\\u7248 \\u53ef\\u5168\\u984d\\u8cb8\",\"m_id\":\"200609\",\"auto_price\":\"21.3\",\"auto_make_date\":\"<b>2007\\u5e74\",\"item_show_num\":107,\"new_item_show_num\":107,\"auto_brand_id\":\"46\",\"auto_brand_en\":\"Toyota\",\"item_kind_name_en\":\"Camry\",\"item_kind_name_cn\":\"\",\"item_renew_date\":\"<font>27\\u5206\\u9418\\u5167\\u66f4\\u65b0\",\"item_post_date\":\"2017-06-19 15:18:19\",\"photoNum\":\"20\",\"photo\":\"https:\\/\\/p1.8891.com.tw\\/2017\\/06\\/09\\/9\\/1496996041129535_220_165.jpg\",\"photoList\":\"https:\\/\\/p1.8891.com.tw\\/2017\\/06\\/09\\/9\\/1496996041129535_300_225.jpg\",\"auto_price_tag\":\"<b>21.3\\u842c\",\"auto_price_type\":\"2\",\"auto_gas_size\":\"2.4L\",\"check_log\":\"\",\"is_vip\":\"1\",\"is_red\":\"0\",\"is_realPrice\":\"1\",\"is_seven\":0,\"auto_mileage_num\":\"<b>6.3\\u842c\\u516c\\u91cc\",\"extra_tag\":0,\"survey_report\":\"0\",\"organi\":\"0\",\"is_mobile\":\"0\",\"auto_address\":\"\\u81fa\\u4e2d\\u5e02\",\"auto_tab_name\":\"\\u81ea\\u6392\",\"auto_year_type\":\"2007\"},\"5\":{\"id\":\"1453215\",\"auto_title_all\":\"\\u5be6\\u50f9\\u767b\\u9304 \\u4fdd\\u8b49\\u6709\\u8eca 2014 BMW 520D F10 2.0 \\u5c0f\\u6539\\u6b3e \\u53ef\\u5168\\u984d\\u8cb8\",\"m_id\":\"200609\",\"auto_price\":\"123.8\",\"auto_make_date\":\"<b>2014\\u5e74\",\"item_show_num\":182,\"new_item_show_num\":182,\"auto_brand_id\":\"6\",\"auto_brand_en\":\"BMW\",\"item_kind_name_en\":\"5-Series Sedan\",\"item_kind_name_cn\":\"\",\"item_renew_date\":\"<font>27\\u5206\\u9418\\u5167\\u66f4\\u65b0\",\"item_post_date\":\"2017-06-22 14:15:35\",\"is_new\":1,\"photoNum\":\"20\",\"photo\":\"https:\\/\\/p1.8891.com.tw\\/2017\\/06\\/22\\/9\\/1498112020442427_220_165.jpg\",\"photoList\":\"https:\\/\\/p1.8891.com.tw\\/2017\\/06\\/22\\/9\\/1498112020442427_300_225.jpg\",\"auto_price_tag\":\"<b>123.8\\u842c\",\"auto_price_type\":\"2\",\"auto_gas_size\":\"2.0L\",\"check_log\":\"\",\"is_vip\":\"1\",\"is_red\":\"0\",\"is_realPrice\":\"1\",\"is_seven\":1,\"auto_mileage_num\":\"<b>2.4\\u842c\\u516c\\u91cc\",\"extra_tag\":0,\"survey_report\":\"0\",\"organi\":\"0\",\"is_mobile\":\"0\",\"auto_address\":\"\\u81fa\\u4e2d\\u5e02\",\"auto_tab_name\":\"\\u624b\\u81ea\\u6392\",\"auto_year_type\":\"2014\"},\"6\":{\"id\":\"1453226\",\"auto_title_all\":\"\\u91cc\\u7a0b\\u6975\\u4f4e \\u5be6\\u50f9\\u767b\\u9304 \\u4fdd\\u8b49\\u6709\\u8eca 2014 CLA250 AMG 2.0 \\u53ef\\u5168\\u984d\\u8cb8\",\"m_id\":\"200609\",\"auto_price\":\"129.8\",\"auto_make_date\":\"<b>2014\\u5e74\",\"item_show_num\":298,\"new_item_show_num\":298,\"auto_brand_id\":\"27\",\"auto_brand_en\":\"Mercedes-Benz\",\"item_kind_name_en\":\"CLA\",\"item_kind_name_cn\":\"\",\"item_renew_date\":\"<font>27\\u5206\\u9418\\u5167\\u66f4\\u65b0\",\"item_post_date\":\"2017-06-22 14:20:55\",\"is_new\":1,\"photoNum\":\"20\",\"photo\":\"https:\\/\\/p1.8891.com.tw\\/2017\\/06\\/22\\/9\\/1498112348210613_220_165.jpg\",\"photoList\":\"https:\\/\\/p1.8891.com.tw\\/2017\\/06\\/22\\/9\\/1498112348210613_300_225.jpg\",\"auto_price_tag\":\"<b>129.8\\u842c\",\"auto_price_type\":\"2\",\"auto_gas_size\":\"2.0L\",\"check_log\":\"\",\"is_vip\":\"1\",\"is_red\":\"0\",\"is_realPrice\":\"1\",\"is_seven\":1,\"auto_mileage_num\":\"<b>7270\\u516c\\u91cc\",\"extra_tag\":0,\"survey_report\":\"0\",\"organi\":\"0\",\"is_mobile\":\"0\",\"auto_address\":\"\\u81fa\\u4e2d\\u5e02\",\"auto_tab_name\":\"\\u81ea\\u624b\\u6392\",\"auto_year_type\":\"2014\"},\"7\":{\"id\":\"1454405\",\"auto_title_all\":\"\\u4fe1\\u7528\\u7455\\u75b5\\u5354\\u5546\\u7686\\u53ef\\u8fa6 \\u4fdd\\u8b49\\u6709\\u8eca 2008 CAMRY 2.4 E\\u7248 \\u53ef\\u5168\\u984d\\u8cb8\",\"m_id\":\"200609\",\"auto_price\":\"9.8\",\"auto_make_date\":\"<b>2008\\u5e74\",\"item_show_num\":152,\"new_item_show_num\":152,\"auto_brand_id\":\"46\",\"auto_brand_en\":\"Toyota\",\"item_kind_name_en\":\"Camry\",\"item_kind_name_cn\":\"\",\"item_renew_date\":\"<font>27\\u5206\\u9418\\u5167\\u66f4\\u65b0\",\"item_post_date\":\"2017-06-23 15:36:56\",\"is_new\":1,\"photoNum\":\"16\",\"photo\":\"https:\\/\\/p2.8891.com.tw\\/2017\\/06\\/23\\/9\\/1498203384510612_220_165.jpg\",\"photoList\":\"https:\\/\\/p2.8891.com.tw\\/2017\\/06\\/23\\/9\\/1498203384510612_300_225.jpg\",\"auto_price_tag\":\"<b>9.8\\u842c\",\"auto_price_type\":\"2\",\"auto_gas_size\":\"2.4L\",\"check_log\":\"\",\"is_vip\":\"1\",\"is_red\":\"0\",\"is_realPrice\":\"1\",\"is_seven\":1,\"auto_mileage_num\":\"<b>15.7\\u842c\\u516c\\u91cc\",\"extra_tag\":0,\"survey_report\":\"0\",\"organi\":\"0\",\"is_mobile\":\"0\",\"auto_address\":\"\\u81fa\\u4e2d\\u5e02\",\"auto_tab_name\":\"\\u624b\\u81ea\\u6392\",\"auto_year_type\":\"2008\"},\"8\":{\"id\":\"1455681\",\"auto_title_all\":\"\\u5be6\\u50f9\\u767b\\u9304 \\u4fdd\\u8b49\\u6709\\u8eca 2007 YARIS 1.5 G\\u7248 IKEY \\u5feb\\u64a5 \\u53ef\\u5168\\u984d\\u8cb8\",\"m_id\":\"200609\",\"auto_price\":\"14.3\",\"auto_make_date\":\"<b>2007\\u5e74\",\"item_show_num\":23,\"new_item_show_num\":23,\"auto_brand_id\":\"46\",\"auto_brand_en\":\"Toyota\",\"item_kind_name_en\":\"Yaris\",\"item_kind_name_cn\":\"\",\"item_renew_date\":\"<font>27\\u5206\\u9418\\u5167\\u66f4\\u65b0\",\"item_post_date\":\"2017-06-24 19:28:20\",\"is_new\":1,\"photoNum\":\"18\",\"photo\":\"https:\\/\\/p2.8891.com.tw\\/2017\\/06\\/24\\/9\\/1498303580846102_220_165.jpg\",\"photoList\":\"https:\\/\\/p2.8891.com.tw\\/2017\\/06\\/24\\/9\\/1498303580846102_300_225.jpg\",\"auto_price_tag\":\"<b>14.3\\u842c\",\"auto_price_type\":\"2\",\"auto_gas_size\":\"1.5L\",\"check_log\":\"\",\"is_vip\":\"1\",\"is_red\":\"0\",\"is_realPrice\":\"1\",\"is_seven\":1,\"auto_mileage_num\":\"<b>10.6\\u842c\\u516c\\u91cc\",\"extra_tag\":0,\"survey_report\":\"0\",\"organi\":\"0\",\"is_mobile\":\"0\",\"auto_address\":\"\\u81fa\\u4e2d\\u5e02\",\"auto_tab_name\":\"\\u81ea\\u6392\",\"auto_year_type\":\"2007\"},\"9\":{\"id\":\"1381945\",\"auto_title_all\":\"Swift \\u9802\\u7d1ai-key \\u6046\\u6eab\\u7a7a\\u8abf \\u5168\\u8ecaT3\\u5305 \\u96d9\\u51fa\\u6392\\u6c23\\u7ba1\",\"m_id\":\"69995\",\"auto_price\":\"25.8\",\"auto_make_date\":\"<b>2008\\u5e74\",\"item_show_num\":\"<span class='\\\"Red\\\"'>1563\",\"new_item_show_num\":1563,\"auto_brand_id\":\"44\",\"auto_brand_en\":\"Suzuki\",\"item_kind_name_en\":\"Swift\",\"item_kind_name_cn\":\"\",\"item_renew_date\":\"<font>29\\u5206\\u9418\\u5167\\u66f4\\u65b0\",\"item_post_date\":\"2017-04-11 13:50:17\",\"photoNum\":\"8\",\"photo\":\"https:\\/\\/p1.8891.com.tw\\/2017\\/04\\/11\\/5\\/1491889680638997_220_165.jpg\",\"photoList\":\"https:\\/\\/p1.8891.com.tw\\/2017\\/04\\/11\\/5\\/1491889680638997_300_225.jpg\",\"auto_price_tag\":\"<b>25.8\\u842c\",\"auto_price_type\":\"2\",\"auto_gas_size\":\"1.5L\",\"check_log\":\"\",\"is_vip\":\"1\",\"is_red\":\"0\",\"is_realPrice\":\"1\",\"is_seven\":0,\"auto_mileage_num\":\"<b>14.0\\u842c\\u516c\\u91cc\",\"extra_tag\":0,\"survey_report\":\"1\",\"organi\":\"1\",\"is_mobile\":\"0\",\"auto_address\":\"\\u6843\\u5712\\u5e02\",\"auto_tab_name\":\"\\u81ea\\u6392\",\"auto_year_type\":\"2008\"},\"10\":{\"id\":\"1439022\",\"auto_title_all\":\"LUXGEN7 SUV U7  SPORT,\\u4e00\\u624b,\\u96d9\\u96fb\\u52d5\\u501a,\\u74b0\\u666f,\\u96fb\\u5c3e\\u9580\",\"m_id\":\"69995\",\"auto_price\":\"51.8\",\"auto_make_date\":\"<b>2012\\u5e74\",\"item_show_num\":230,\"new_item_show_num\":230,\"auto_brand_id\":\"26\",\"auto_brand_en\":\"Luxgen\",\"item_kind_name_en\":\"7 SUV\",\"item_kind_name_cn\":\"\",\"item_renew_date\":\"<font>29\\u5206\\u9418\\u5167\\u66f4\\u65b0\",\"item_post_date\":\"2017-06-08 09:58:52\",\"photoNum\":\"10\",\"photo\":\"https:\\/\\/p2.8891.com.tw\\/2017\\/06\\/12\\/5\\/1497270620385578_220_165.jpg\",\"photoList\":\"https:\\/\\/p2.8891.com.tw\\/2017\\/06\\/12\\/5\\/1497270620385578_300_225.jpg\",\"auto_price_tag\":\"<b>51.8\\u842c\",\"auto_price_type\":\"2\",\"auto_gas_size\":\"2.2L\",\"check_log\":\"\",\"is_vip\":\"1\",\"is_red\":\"0\",\"is_realPrice\":\"1\",\"is_seven\":0,\"auto_mileage_num\":\"<b>4.0\\u842c\\u516c\\u91cc\",\"extra_tag\":0,\"survey_report\":\"1\",\"organi\":\"1\",\"is_mobile\":\"0\",\"auto_address\":\"\\u6843\\u5712\\u5e02\",\"auto_tab_name\":\"\\u624b\\u81ea\\u6392\",\"auto_year_type\":\"2012\"},\"11\":{\"id\":\"1434182\",\"auto_title_all\":\"SAVE\\u8a8d\\u8b49 BMW 523i  M Sport\\u5927\\u5305 \\u53ef\\u5168\\u8cb8\",\"m_id\":\"297127\",\"auto_price\":\"66.8\",\"auto_make_date\":\"<b>2008\\u5e74\",\"item_show_num\":666,\"new_item_show_num\":666,\"auto_brand_id\":\"6\",\"auto_brand_en\":\"BMW\",\"item_kind_name_en\":\"5-Series\",\"item_kind_name_cn\":\"\",\"item_renew_date\":\"<font>30\\u5206\\u9418\\u5167\\u66f4\\u65b0\",\"item_post_date\":\"2017-06-02 19:46:13\",\"photoNum\":\"16\",\"photo\":\"https:\\/\\/p1.8891.com.tw\\/2017\\/06\\/09\\/7\\/1497001713794291_220_165.jpg\",\"photoList\":\"https:\\/\\/p1.8891.com.tw\\/2017\\/06\\/09\\/7\\/1497001713794291_300_225.jpg\",\"auto_price_tag\":\"<b>66.8\\u842c\",\"auto_price_type\":\"2\",\"auto_gas_size\":\"2.5L\",\"check_log\":\"\",\"is_vip\":\"1\",\"is_red\":\"0\",\"is_realPrice\":\"1\",\"is_seven\":0,\"auto_mileage_num\":\"<b>13.1\\u842c\\u516c\\u91cc\",\"extra_tag\":0,\"survey_report\":\"1\",\"organi\":\"0\",\"is_mobile\":\"0\",\"auto_address\":\"\\u81fa\\u4e2d\\u5e02\",\"auto_tab_name\":\"\\u624b\\u81ea\\u6392\",\"auto_year_type\":\"2008\"},\"12\":{\"id\":\"1397955\",\"auto_title_all\":\"$3500\\u5373\\u53ef\\u4ea4\\u8eca\\u2605\\u5f37\\u529b\\u904e\\u4ef6\\u2605\\u9084\\u53ef\\u8d85\\u984d\\u8cb8\\u2605\",\"m_id\":\"317246\",\"auto_price\":\"27.0\",\"auto_make_date\":\"<b>2010\\u5e74\",\"item_show_num\":\"<span class='\\\"Red\\\"'>1167\",\"new_item_show_num\":1167,\"auto_brand_id\":\"32\",\"auto_brand_en\":\"Nissan\",\"item_kind_name_en\":\"Tiida 5D\",\"item_kind_name_cn\":\"\",\"item_renew_date\":\"<font>32\\u5206\\u9418\\u5167\\u66f4\\u65b0\",\"item_post_date\":\"2017-04-27 14:29:55\",\"photoNum\":\"20\",\"photo\":\"https:\\/\\/p2.8891.com.tw\\/2017\\/04\\/27\\/6\\/1493274360963306_220_165.jpg\",\"photoList\":\"https:\\/\\/p2.8891.com.tw\\/2017\\/04\\/27\\/6\\/1493274360963306_300_225.jpg\",\"auto_price_tag\":\"<b>27\\u842c\",\"auto_price_type\":\"2\",\"auto_gas_size\":\"1.8L\",\"check_log\":\"\",\"is_vip\":\"1\",\"is_red\":\"0\",\"is_realPrice\":\"1\",\"is_seven\":0,\"auto_mileage_num\":\"<b>9.5\\u842c\\u516c\\u91cc\",\"extra_tag\":0,\"survey_report\":\"0\",\"organi\":\"0\",\"is_mobile\":\"0\",\"auto_address\":\"\\u9ad8\\u96c4\\u5e02\",\"auto_tab_name\":\"\\u81ea\\u6392\",\"auto_year_type\":\"2010\"},\"13\":{\"id\":\"1411920\",\"auto_title_all\":\"$3500\\u5373\\u53ef\\u4ea4\\u8eca\\u2605\\u5f37\\u529b\\u904e\\u4ef6\\u2605\\u9084\\u53ef\\u8d85\\u984d\\u8cb8\\u2605\",\"m_id\":\"317246\",\"auto_price\":\"26.0\",\"auto_make_date\":\"<b>2011\\u5e74\",\"item_show_num\":626,\"new_item_show_num\":626,\"auto_brand_id\":\"32\",\"auto_brand_en\":\"Nissan\",\"item_kind_name_en\":\"Livina\",\"item_kind_name_cn\":\"\",\"item_renew_date\":\"<font>32\\u5206\\u9418\\u5167\\u66f4\\u65b0\",\"item_post_date\":\"2017-05-10 18:25:28\",\"photoNum\":\"20\",\"photo\":\"https:\\/\\/p1.8891.com.tw\\/2017\\/05\\/10\\/6\\/1494411498785103_220_165.jpg\",\"photoList\":\"https:\\/\\/p1.8891.com.tw\\/2017\\/05\\/10\\/6\\/1494411498785103_300_225.jpg\",\"auto_price_tag\":\"<b>26\\u842c\",\"auto_price_type\":\"2\",\"auto_gas_size\":\"1.6L\",\"check_log\":\"\",\"is_vip\":\"1\",\"is_red\":\"0\",\"is_realPrice\":\"1\",\"is_seven\":0,\"auto_mileage_num\":\"<b>9.3\\u842c\\u516c\\u91cc\",\"extra_tag\":0,\"survey_report\":\"0\",\"organi\":\"0\",\"is_mobile\":\"0\",\"auto_address\":\"\\u9ad8\\u96c4\\u5e02\",\"auto_tab_name\":\"\\u81ea\\u6392\",\"auto_year_type\":\"2011\"},\"14\":{\"id\":\"1414774\",\"auto_title_all\":\"$3500\\u5373\\u53ef\\u4ea4\\u8eca\\u2605\\u5f37\\u529b\\u904e\\u4ef6\\u2605\\u9084\\u53ef\\u8d85\\u984d\\u8cb8\\u2605\",\"m_id\":\"317246\",\"auto_price\":\"28.8\",\"auto_make_date\":\"<b>2009\\u5e74\",\"item_show_num\":446,\"new_item_show_num\":446,\"auto_brand_id\":\"16\",\"auto_brand_en\":\"Honda\",\"item_kind_name_en\":\"Civic\",\"item_kind_name_cn\":\"\",\"item_renew_date\":\"<font>32\\u5206\\u9418\\u5167\\u66f4\\u65b0\",\"item_post_date\":\"2017-05-13 12:53:56\",\"photoNum\":\"9\",\"photo\":\"https:\\/\\/p1.8891.com.tw\\/2017\\/01\\/05\\/6\\/1483603501241949_220_165.jpg\",\"photoList\":\"https:\\/\\/p1.8891.com.tw\\/2017\\/01\\/05\\/6\\/1483603501241949_300_225.jpg\",\"auto_price_tag\":\"<b>28.8\\u842c\",\"auto_price_type\":\"2\",\"auto_gas_size\":\"1.8L\",\"check_log\":\"\",\"is_vip\":\"1\",\"is_red\":\"0\",\"is_realPrice\":\"1\",\"is_seven\":0,\"auto_mileage_num\":\"<b>10.9\\u842c\\u516c\\u91cc\",\"extra_tag\":0,\"survey_report\":\"0\",\"organi\":\"0\",\"is_mobile\":\"0\",\"auto_address\":\"\\u9ad8\\u96c4\\u5e02\",\"auto_tab_name\":\"\\u624b\\u81ea\\u6392\",\"auto_year_type\":\"2009\"},\"15\":{\"id\":\"1426802\",\"auto_title_all\":\"$3500\\u5373\\u53ef\\u4ea4\\u8eca\\u2605\\u5f37\\u529b\\u904e\\u4ef6\\u2605\\u9084\\u53ef\\u8d85\\u984d\\u8cb8\\u2605\",\"m_id\":\"317246\",\"auto_price\":\"26.0\",\"auto_make_date\":\"<b>2010\\u5e74\",\"item_show_num\":232,\"new_item_show_num\":232,\"auto_brand_id\":\"16\",\"auto_brand_en\":\"Honda\",\"item_kind_name_en\":\"Fit\",\"item_kind_name_cn\":\"\",\"item_renew_date\":\"<font>32\\u5206\\u9418\\u5167\\u66f4\\u65b0\",\"item_post_date\":\"2017-05-25 14:49:01\",\"photoNum\":\"8\",\"photo\":\"https:\\/\\/p2.8891.com.tw\\/2017\\/01\\/05\\/6\\/1483589994860004_220_165.jpg\",\"photoList\":\"https:\\/\\/p2.8891.com.tw\\/2017\\/01\\/05\\/6\\/1483589994860004_300_225.jpg\",\"auto_price_tag\":\"<b>26\\u842c\",\"auto_price_type\":\"2\",\"auto_gas_size\":\"1.5L\",\"check_log\":\"\",\"is_vip\":\"1\",\"is_red\":\"0\",\"is_realPrice\":\"1\",\"is_seven\":0,\"auto_mileage_num\":\"<b>6.6\\u842c\\u516c\\u91cc\",\"extra_tag\":0,\"survey_report\":\"0\",\"organi\":\"0\",\"is_mobile\":\"0\",\"auto_address\":\"\\u9ad8\\u96c4\\u5e02\",\"auto_tab_name\":\"\\u624b\\u81ea\\u6392\",\"auto_year_type\":\"2010\"},\"16\":{\"id\":\"1426830\",\"auto_title_all\":\"$3500\\u5373\\u53ef\\u4ea4\\u8eca\\u2605\\u5f37\\u529b\\u904e\\u4ef6\\u2605\\u9084\\u53ef\\u8d85\\u984d\\u8cb8\\u2605\",\"m_id\":\"317246\",\"auto_price\":\"11.0\",\"auto_make_date\":\"<b>2005\\u5e74\",\"item_show_num\":160,\"new_item_show_num\":160,\"auto_brand_id\":\"31\",\"auto_brand_en\":\"Mitsubishi\",\"item_kind_name_en\":\"Virage\",\"item_kind_name_cn\":\"\\u5a01\\u62c9\\u5409\",\"item_renew_date\":\"<font>32\\u5206\\u9418\\u5167\\u66f4\\u65b0\",\"item_post_date\":\"2017-05-25 15:01:24\",\"photoNum\":\"13\",\"photo\":\"https:\\/\\/p2.8891.com.tw\\/2017\\/02\\/16\\/6\\/1487247300813684_220_165.jpg\",\"photoList\":\"https:\\/\\/p2.8891.com.tw\\/2017\\/02\\/16\\/6\\/1487247300813684_300_225.jpg\",\"auto_price_tag\":\"<b>11\\u842c\",\"auto_price_type\":\"2\",\"auto_gas_size\":\"1.8L\",\"check_log\":\"\",\"is_vip\":\"1\",\"is_red\":\"0\",\"is_realPrice\":\"1\",\"is_seven\":0,\"auto_mileage_num\":\"<b>12.2\\u842c\\u516c\\u91cc\",\"extra_tag\":0,\"survey_report\":\"0\",\"organi\":\"0\",\"is_mobile\":\"0\",\"auto_address\":\"\\u9ad8\\u96c4\\u5e02\",\"auto_tab_name\":\"\\u624b\\u81ea\\u6392\",\"auto_year_type\":\"2005\"},\"17\":{\"id\":\"1433811\",\"auto_title_all\":\"$3500\\u5373\\u53ef\\u4ea4\\u8eca\\u2605\\u5f37\\u529b\\u904e\\u4ef6\\u2605\\u9084\\u53ef\\u8d85\\u984d\\u8cb8\\u2605\",\"m_id\":\"317246\",\"auto_price\":\"26.8\",\"auto_make_date\":\"<b>2007\\u5e74\",\"item_show_num\":454,\"new_item_show_num\":454,\"auto_brand_id\":\"16\",\"auto_brand_en\":\"Honda\",\"item_kind_name_en\":\"Civic\",\"item_kind_name_cn\":\"\",\"item_renew_date\":\"<font>32\\u5206\\u9418\\u5167\\u66f4\\u65b0\",\"item_post_date\":\"2017-06-02 15:36:13\",\"photoNum\":\"11\",\"photo\":\"https:\\/\\/p1.8891.com.tw\\/2017\\/01\\/05\\/6\\/1483599249267655_220_165.jpg\",\"photoList\":\"https:\\/\\/p1.8891.com.tw\\/2017\\/01\\/05\\/6\\/1483599249267655_300_225.jpg\",\"auto_price_tag\":\"<b>26.8\\u842c\",\"auto_price_type\":\"2\",\"auto_gas_size\":\"1.8L\",\"check_log\":\"\",\"is_vip\":\"1\",\"is_red\":\"0\",\"is_realPrice\":\"1\",\"is_seven\":0,\"auto_mileage_num\":\"<b>9.5\\u842c\\u516c\\u91cc\",\"extra_tag\":0,\"survey_report\":\"0\",\"organi\":\"0\",\"is_mobile\":\"0\",\"auto_address\":\"\\u9ad8\\u96c4\\u5e02\",\"auto_tab_name\":\"\\u624b\\u81ea\\u6392\",\"auto_year_type\":\"2007\"},\"18\":{\"id\":\"1437154\",\"auto_title_all\":\"$3500\\u5373\\u53ef\\u4ea4\\u8eca\\u2605\\u5f37\\u529b\\u904e\\u4ef6\\u2605\\u9084\\u53ef\\u8d85\\u984d\\u8cb8\\u2605\",\"m_id\":\"317246\",\"auto_price\":\"43.2\",\"auto_make_date\":\"<b>2011\\u5e74\",\"item_show_num\":509,\"new_item_show_num\":509,\"auto_brand_id\":\"17\",\"auto_brand_en\":\"Hyundai\",\"item_kind_name_en\":\"ix35\",\"item_kind_name_cn\":\"\",\"item_renew_date\":\"<font>32\\u5206\\u9418\\u5167\\u66f4\\u65b0\",\"item_post_date\":\"2017-06-06 12:14:04\",\"photoNum\":\"20\",\"photo\":\"https:\\/\\/p2.8891.com.tw\\/2017\\/06\\/06\\/6\\/1496722312166884_220_165.jpg\",\"photoList\":\"https:\\/\\/p2.8891.com.tw\\/2017\\/06\\/06\\/6\\/1496722312166884_300_225.jpg\",\"auto_price_tag\":\"<b>43.2\\u842c\",\"auto_price_type\":\"2\",\"auto_gas_size\":\"2.0L\",\"check_log\":\"\",\"is_vip\":\"1\",\"is_red\":\"0\",\"is_realPrice\":\"1\",\"is_seven\":0,\"auto_mileage_num\":\"<b>5.2\\u842c\\u516c\\u91cc\",\"extra_tag\":0,\"survey_report\":\"0\",\"organi\":\"0\",\"is_mobile\":\"0\",\"auto_address\":\"\\u9ad8\\u96c4\\u5e02\",\"auto_tab_name\":\"\\u624b\\u81ea\\u6392\",\"auto_year_type\":\"2011\"},\"19\":{\"id\":\"1447779\",\"auto_title_all\":\"$3500\\u5373\\u53ef\\u4ea4\\u8eca\\u2605\\u5f37\\u529b\\u904e\\u4ef6\\u2605\\u9084\\u53ef\\u8d85\\u984d\\u8cb8\\u2605\",\"m_id\":\"317246\",\"auto_price\":\"25.5\",\"auto_make_date\":\"<b>2009\\u5e74\",\"item_show_num\":409,\"new_item_show_num\":409,\"auto_brand_id\":\"31\",\"auto_brand_en\":\"Mitsubishi\",\"item_kind_name_en\":\"Lancer Fortis\",\"item_kind_name_cn\":\"\",\"item_renew_date\":\"<font>32\\u5206\\u9418\\u5167\\u66f4\\u65b0\",\"item_post_date\":\"2017-06-16 17:12:49\",\"photoNum\":\"20\",\"photo\":\"https:\\/\\/p1.8891.com.tw\\/2017\\/06\\/16\\/6\\/1497603391028519_220_165.jpg\",\"photoList\":\"https:\\/\\/p1.8891.com.tw\\/2017\\/06\\/16\\/6\\/1497603391028519_300_225.jpg\",\"auto_price_tag\":\"<b>25.5\\u842c\",\"auto_price_type\":\"2\",\"auto_gas_size\":\"1.8L\",\"check_log\":\"\",\"is_vip\":\"1\",\"is_red\":\"0\",\"is_realPrice\":\"1\",\"is_seven\":0,\"auto_mileage_num\":\"<b>8.6\\u842c\\u516c\\u91cc\",\"extra_tag\":0,\"survey_report\":\"0\",\"organi\":\"0\",\"is_mobile\":\"0\",\"auto_address\":\"\\u9ad8\\u96c4\\u5e02\",\"auto_tab_name\":\"\\u624b\\u81ea\\u6392\",\"auto_year_type\":\"2009\"},\"20\":{\"id\":\"1438741\",\"auto_title_all\":\"\\u8c50\\u7530 ALTIS \\u9802\\u7d1aZ\\u7248 \\u5929\\u7a97 I-KEY \\u5b9a\\u901f DVD \\u96fb\\u52d5\\u6905 \\u53ef\\u5168\\u8cb8\",\"m_id\":\"161868\",\"auto_price\":\"46.8\",\"auto_make_date\":\"<b>2014\\u5e74\",\"item_show_num\":\"<span class='\\\"Red\\\"'>1019\",\"new_item_show_num\":1019,\"auto_brand_id\":\"46\",\"auto_brand_en\":\"Toyota\",\"item_kind_name_en\":\"Corolla Altis\",\"item_kind_name_cn\":\"\",\"item_renew_date\":\"<font>34\\u5206\\u9418\\u5167\\u66f4\\u65b0\",\"item_post_date\":\"2017-06-07 18:20:27\",\"photoNum\":\"17\",\"photo\":\"https:\\/\\/p1.8891.com.tw\\/2017\\/06\\/17\\/8\\/1497695280322777_220_165.jpg\",\"photoList\":\"https:\\/\\/p1.8891.com.tw\\/2017\\/06\\/17\\/8\\/1497695280322777_300_225.jpg\",\"auto_price_tag\":\"<b>46.8\\u842c\",\"auto_price_type\":\"2\",\"auto_gas_size\":\"1.8L\",\"check_log\":\"\",\"is_vip\":\"1\",\"is_red\":\"0\",\"is_realPrice\":\"1\",\"is_seven\":0,\"auto_mileage_num\":\"<b>9.0\\u842c\\u516c\\u91cc\",\"extra_tag\":0,\"survey_report\":\"0\",\"organi\":\"0\",\"is_mobile\":\"0\",\"auto_address\":\"\\u81fa\\u4e2d\\u5e02\",\"auto_tab_name\":\"\\u624b\\u81ea\\u6392\",\"auto_year_type\":\"2015\"}},\"total\":\"50570\"}}</b></b></font></span></b></b></b></font></b></b></b></font></b></b></b></font></b></b></b></font></b></b></b></font></b></b></b></font></b></b></b></font></b></b></b></font></span></b></b></b></font></b></b></b></font></b></b></b></font></span></b></b></b></font></b></b></b></font></b></b></b></font></b></b></b></font></b></b></b></font></b></b></b></font></b></b></b></font></b></b></b></font></b></p></body></html>"
      ]
     },
     "execution_count": 5,
     "metadata": {},
     "output_type": "execute_result"
    }
   ],
   "source": [
    "url='https://auto.8891.com.tw/usedauto-search.html?page=2'\n",
    "res = requests.get(url)\n",
    "soup= BeautifulSoup(res.text,'lxml')\n",
    "# js=res.text.split(';\">')[1].split('</pre')[0]\n",
    "# js.encode='utf-8'\n",
    "\n",
    "\n",
    "# json.loads(js)\n",
    "soup"
   ]
  },
  {
   "cell_type": "code",
   "execution_count": 8,
   "metadata": {},
   "outputs": [
    {
     "ename": "JSONDecodeError",
     "evalue": "Expecting value: line 1 column 1 (char 0)",
     "output_type": "error",
     "traceback": [
      "\u001b[0;31m---------------------------------------------------------------------------\u001b[0m",
      "\u001b[0;31mJSONDecodeError\u001b[0m                           Traceback (most recent call last)",
      "\u001b[0;32m<ipython-input-8-0152b668ac2f>\u001b[0m in \u001b[0;36m<module>\u001b[0;34m()\u001b[0m\n\u001b[1;32m      1\u001b[0m \u001b[0murl\u001b[0m\u001b[0;34m=\u001b[0m\u001b[0;34m'https://auto.8891.com.tw/usedauto-search.html?page=1'\u001b[0m\u001b[0;34m\u001b[0m\u001b[0m\n\u001b[1;32m      2\u001b[0m \u001b[0mres\u001b[0m \u001b[0;34m=\u001b[0m \u001b[0mrequests\u001b[0m\u001b[0;34m.\u001b[0m\u001b[0mget\u001b[0m\u001b[0;34m(\u001b[0m\u001b[0murl\u001b[0m\u001b[0;34m,\u001b[0m\u001b[0mheaders\u001b[0m\u001b[0;34m=\u001b[0m\u001b[0mheaders\u001b[0m\u001b[0;34m)\u001b[0m\u001b[0;34m\u001b[0m\u001b[0m\n\u001b[0;32m----> 3\u001b[0;31m \u001b[0mjs\u001b[0m \u001b[0;34m=\u001b[0m \u001b[0mjson\u001b[0m\u001b[0;34m.\u001b[0m\u001b[0mloads\u001b[0m\u001b[0;34m(\u001b[0m\u001b[0mres\u001b[0m\u001b[0;34m.\u001b[0m\u001b[0mtext\u001b[0m\u001b[0;34m.\u001b[0m\u001b[0mlower\u001b[0m\u001b[0;34m(\u001b[0m\u001b[0;34m)\u001b[0m\u001b[0;34m)\u001b[0m\u001b[0;34m\u001b[0m\u001b[0m\n\u001b[0m\u001b[1;32m      4\u001b[0m \u001b[0;34m\u001b[0m\u001b[0m\n\u001b[1;32m      5\u001b[0m \u001b[0mdata\u001b[0m\u001b[0;34m=\u001b[0m\u001b[0;34m\"\"\u001b[0m\u001b[0;34m\u001b[0m\u001b[0m\n",
      "\u001b[0;32m/home/ubuntu/.pyenv/versions/3.6.1/lib/python3.6/json/__init__.py\u001b[0m in \u001b[0;36mloads\u001b[0;34m(s, encoding, cls, object_hook, parse_float, parse_int, parse_constant, object_pairs_hook, **kw)\u001b[0m\n\u001b[1;32m    352\u001b[0m             \u001b[0mparse_int\u001b[0m \u001b[0;32mis\u001b[0m \u001b[0;32mNone\u001b[0m \u001b[0;32mand\u001b[0m \u001b[0mparse_float\u001b[0m \u001b[0;32mis\u001b[0m \u001b[0;32mNone\u001b[0m \u001b[0;32mand\u001b[0m\u001b[0;34m\u001b[0m\u001b[0m\n\u001b[1;32m    353\u001b[0m             parse_constant is None and object_pairs_hook is None and not kw):\n\u001b[0;32m--> 354\u001b[0;31m         \u001b[0;32mreturn\u001b[0m \u001b[0m_default_decoder\u001b[0m\u001b[0;34m.\u001b[0m\u001b[0mdecode\u001b[0m\u001b[0;34m(\u001b[0m\u001b[0ms\u001b[0m\u001b[0;34m)\u001b[0m\u001b[0;34m\u001b[0m\u001b[0m\n\u001b[0m\u001b[1;32m    355\u001b[0m     \u001b[0;32mif\u001b[0m \u001b[0mcls\u001b[0m \u001b[0;32mis\u001b[0m \u001b[0;32mNone\u001b[0m\u001b[0;34m:\u001b[0m\u001b[0;34m\u001b[0m\u001b[0m\n\u001b[1;32m    356\u001b[0m         \u001b[0mcls\u001b[0m \u001b[0;34m=\u001b[0m \u001b[0mJSONDecoder\u001b[0m\u001b[0;34m\u001b[0m\u001b[0m\n",
      "\u001b[0;32m/home/ubuntu/.pyenv/versions/3.6.1/lib/python3.6/json/decoder.py\u001b[0m in \u001b[0;36mdecode\u001b[0;34m(self, s, _w)\u001b[0m\n\u001b[1;32m    337\u001b[0m \u001b[0;34m\u001b[0m\u001b[0m\n\u001b[1;32m    338\u001b[0m         \"\"\"\n\u001b[0;32m--> 339\u001b[0;31m         \u001b[0mobj\u001b[0m\u001b[0;34m,\u001b[0m \u001b[0mend\u001b[0m \u001b[0;34m=\u001b[0m \u001b[0mself\u001b[0m\u001b[0;34m.\u001b[0m\u001b[0mraw_decode\u001b[0m\u001b[0;34m(\u001b[0m\u001b[0ms\u001b[0m\u001b[0;34m,\u001b[0m \u001b[0midx\u001b[0m\u001b[0;34m=\u001b[0m\u001b[0m_w\u001b[0m\u001b[0;34m(\u001b[0m\u001b[0ms\u001b[0m\u001b[0;34m,\u001b[0m \u001b[0;36m0\u001b[0m\u001b[0;34m)\u001b[0m\u001b[0;34m.\u001b[0m\u001b[0mend\u001b[0m\u001b[0;34m(\u001b[0m\u001b[0;34m)\u001b[0m\u001b[0;34m)\u001b[0m\u001b[0;34m\u001b[0m\u001b[0m\n\u001b[0m\u001b[1;32m    340\u001b[0m         \u001b[0mend\u001b[0m \u001b[0;34m=\u001b[0m \u001b[0m_w\u001b[0m\u001b[0;34m(\u001b[0m\u001b[0ms\u001b[0m\u001b[0;34m,\u001b[0m \u001b[0mend\u001b[0m\u001b[0;34m)\u001b[0m\u001b[0;34m.\u001b[0m\u001b[0mend\u001b[0m\u001b[0;34m(\u001b[0m\u001b[0;34m)\u001b[0m\u001b[0;34m\u001b[0m\u001b[0m\n\u001b[1;32m    341\u001b[0m         \u001b[0;32mif\u001b[0m \u001b[0mend\u001b[0m \u001b[0;34m!=\u001b[0m \u001b[0mlen\u001b[0m\u001b[0;34m(\u001b[0m\u001b[0ms\u001b[0m\u001b[0;34m)\u001b[0m\u001b[0;34m:\u001b[0m\u001b[0;34m\u001b[0m\u001b[0m\n",
      "\u001b[0;32m/home/ubuntu/.pyenv/versions/3.6.1/lib/python3.6/json/decoder.py\u001b[0m in \u001b[0;36mraw_decode\u001b[0;34m(self, s, idx)\u001b[0m\n\u001b[1;32m    355\u001b[0m             \u001b[0mobj\u001b[0m\u001b[0;34m,\u001b[0m \u001b[0mend\u001b[0m \u001b[0;34m=\u001b[0m \u001b[0mself\u001b[0m\u001b[0;34m.\u001b[0m\u001b[0mscan_once\u001b[0m\u001b[0;34m(\u001b[0m\u001b[0ms\u001b[0m\u001b[0;34m,\u001b[0m \u001b[0midx\u001b[0m\u001b[0;34m)\u001b[0m\u001b[0;34m\u001b[0m\u001b[0m\n\u001b[1;32m    356\u001b[0m         \u001b[0;32mexcept\u001b[0m \u001b[0mStopIteration\u001b[0m \u001b[0;32mas\u001b[0m \u001b[0merr\u001b[0m\u001b[0;34m:\u001b[0m\u001b[0;34m\u001b[0m\u001b[0m\n\u001b[0;32m--> 357\u001b[0;31m             \u001b[0;32mraise\u001b[0m \u001b[0mJSONDecodeError\u001b[0m\u001b[0;34m(\u001b[0m\u001b[0;34m\"Expecting value\"\u001b[0m\u001b[0;34m,\u001b[0m \u001b[0ms\u001b[0m\u001b[0;34m,\u001b[0m \u001b[0merr\u001b[0m\u001b[0;34m.\u001b[0m\u001b[0mvalue\u001b[0m\u001b[0;34m)\u001b[0m \u001b[0;32mfrom\u001b[0m \u001b[0;32mNone\u001b[0m\u001b[0;34m\u001b[0m\u001b[0m\n\u001b[0m\u001b[1;32m    358\u001b[0m         \u001b[0;32mreturn\u001b[0m \u001b[0mobj\u001b[0m\u001b[0;34m,\u001b[0m \u001b[0mend\u001b[0m\u001b[0;34m\u001b[0m\u001b[0m\n",
      "\u001b[0;31mJSONDecodeError\u001b[0m: Expecting value: line 1 column 1 (char 0)"
     ]
    }
   ],
   "source": [
    "url='https://auto.8891.com.tw/usedauto-search.html?page=1'\n",
    "res = requests.get(url,headers=headers)\n",
    "js = json.loads(res.text.lower())\n",
    "\n",
    "data=\"\"\n",
    "\n",
    "for i in range(1,len(js['data']['data'].keys())+1):\n",
    "    info = js['data']['data'][str(i)] #index OOR solved!\n",
    "    if(info['auto_brand_en'].upper() in brand_list):\n",
    "        carDic={'source':'8891'}\n",
    "        carDic['url'] = 'https://auto.8891.com.tw/usedauto-infos-{}.html'.format(info['id']) \n",
    "        carDic['title']= info['auto_title_all']\n",
    "        carDic['brand']= info['auto_brand_en']\n",
    "        carDic['model']= info['item_kind_name_en']\n",
    "        carDic['cc']= int(float(info['auto_gas_size'].lower().split('l')[0])*1000)\n",
    "        carDic['transmission']= info['auto_tab_name']\n",
    "        mile_search=re.search(r'[0-9.]+',info['auto_mileage_num'])\n",
    "        wen_search = re.search(r'萬',info['auto_mileage_num'])\n",
    "        if mile_search:\n",
    "            if wen_search:\n",
    "                carDic['mileage']= int(float(mile_search.group())*10000)\n",
    "            else:\n",
    "                carDic['mileage']= int(float(mile_search.group()))\n",
    "        else:\n",
    "            carDic['mileage']= -1\n",
    "        carDic['years']= int(re.search(r'[0-9]+',info['auto_year_type']).group())\n",
    "        carDic['location']= info['auto_address']\n",
    "        date_str = info['item_post_date']\n",
    "        carDic['posttime']= int(datetime.datetime.strptime(date_str, \"%Y-%m-%d %H:%M:%S\").timestamp())\n",
    "        carDic['price']= float(info['auto_price'])\n",
    "        data += \"{}|{}|{}\\n\".format(carDic['url'],carDic['posttime'],json.dumps(carDic, ensure_ascii=False))\n",
    "    else:\n",
    "        continue #jump over the car where its brand is not in our brand_list\n",
    "with open(file_out,'a') as f:\n",
    "    f.write(data)\n",
    "with open('progress.csv','w') as f:\n",
    "    f.write('{}\\n'.format(page))"
   ]
  }
 ],
 "metadata": {
  "kernelspec": {
   "display_name": "Python 3",
   "language": "python",
   "name": "python3"
  },
  "language_info": {
   "codemirror_mode": {
    "name": "ipython",
    "version": 3
   },
   "file_extension": ".py",
   "mimetype": "text/x-python",
   "name": "python",
   "nbconvert_exporter": "python",
   "pygments_lexer": "ipython3",
   "version": "3.6.1"
  }
 },
 "nbformat": 4,
 "nbformat_minor": 2
}
