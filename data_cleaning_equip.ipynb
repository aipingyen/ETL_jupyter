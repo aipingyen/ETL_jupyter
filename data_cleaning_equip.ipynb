{
 "cells": [
  {
   "cell_type": "code",
   "execution_count": null,
   "metadata": {
    "collapsed": true
   },
   "outputs": [],
   "source": [
    "安全氣囊\t安全氣囊\n",
    "倒車影像\t倒車顯影系統\n",
    "倒車雷達\t倒車雷達\n",
    "keyless免鑰系統\tkeyless免鑰系統\n",
    "LED頭燈\tLED頭燈\n",
    "天窗\t電動天窗\n",
    "衛星導航\t衛星導航\n",
    "TCS循跡系統\t循跡系統\n",
    "ESP動態穩定系統\t動態穩定系統\n",
    "定速\t定速系統\n",
    "ABS\tABS防鎖死\n",
    "皮椅\t真皮/皮革座椅\n",
    "自動停車系統\t自動停車系統\n",
    "胎壓偵測\t胎壓偵測\n",
    "多功能方向盤\t多功能方向盤"
   ]
  },
  {
   "cell_type": "code",
   "execution_count": 50,
   "metadata": {
    "scrolled": true
   },
   "outputs": [
    {
     "name": "stdout",
     "output_type": "stream",
     "text": [
      "now goes on43134, which is 99% finisheddata clean over!\n"
     ]
    }
   ],
   "source": [
    "import sqlite3\n",
    "import sys, math\n",
    "conn = sqlite3.connect('/home/ubuntu/SQLiteDB/testCar.db')\n",
    "c = conn.cursor()\n",
    "# for row in c.execute('select * from HOT limit 1;'):\n",
    "data = []\n",
    "for row in c.execute('select * from cars0626;'):\n",
    "    data.append(row)\n",
    "conn.commit()\n",
    "conn.close()\n",
    "# data[0][10]\n",
    "\n",
    "before = ['安全氣囊','倒車顯影系統','倒車雷達','keyless免鑰系統','LED頭燈','電動天窗','衛星導航','循跡系統','動態穩定系統','定速系統','ABS防鎖死','真皮/皮革座椅','自動停車系統','胎壓偵測','多功能方向盤']\n",
    "after  = ['安全氣囊','倒車影像','倒車雷達','keyless免鑰系統','LED頭燈','天窗','衛星導航','TCS循跡系統','ESP動態穩定系統','定速','ABS','皮椅','自動停車系統','胎壓偵測','多功能方向盤']\n",
    "total = len(data)\n",
    "data_dict = list(zip(before,after))\n",
    "count = 0\n",
    "for each_data in data:\n",
    "    change = each_data[10]\n",
    "    for each_equip in data_dict:    \n",
    "        change = change.replace(each_equip[0],each_equip[1])\n",
    "    printstring = ('now goes on' + str(count) + ', which is ' + str(math.floor(int(count)/int(total)*100)) + str('% finished'))\n",
    "    sys.stdout.write('\\r' + printstring )\n",
    "    conn = sqlite3.connect('/home/ubuntu/SQLiteDB/testCar.db')\n",
    "    c = conn.cursor()\n",
    "    t = (change,each_data[1])\n",
    "    c.execute('UPDATE cars0629 SET equip = ? WHERE url = ?;', t)\n",
    "    conn.commit()\n",
    "    conn.close()\n",
    "    count+=1\n",
    "print('data clean over!')"
   ]
  },
  {
   "cell_type": "code",
   "execution_count": 1,
   "metadata": {},
   "outputs": [
    {
     "data": {
      "text/plain": [
       "zip"
      ]
     },
     "execution_count": 1,
     "metadata": {},
     "output_type": "execute_result"
    }
   ],
   "source": [
    "def vectorize(input_list):\n",
    "    standard  = ['安全氣囊','倒車影像','倒車雷達','電動後視鏡','HID頭燈','天窗','衛星導航','DVD','電動座椅','定速','鋁圈','ABS','皮椅']\n",
    "    output_list = []\n",
    "    for each in standard:\n",
    "        if each in input_list:\n",
    "            output_list.append('1')\n",
    "        else:\n",
    "            output_list.append('0')\n",
    "    return output_list"
   ]
  },
  {
   "cell_type": "code",
   "execution_count": 35,
   "metadata": {
    "collapsed": true
   },
   "outputs": [],
   "source": [
    "import re\n",
    "s='focus focus 4d'\n",
    "type_list = re.findall(r'focus 4d|focus',s)\n",
    "\n",
    "type_list.sort(key=len, reverse=True)\n",
    "type_list[0]"
   ]
  }
 ],
 "metadata": {
  "kernelspec": {
   "display_name": "Python 3",
   "language": "python",
   "name": "python3"
  },
  "language_info": {
   "codemirror_mode": {
    "name": "ipython",
    "version": 3
   },
   "file_extension": ".py",
   "mimetype": "text/x-python",
   "name": "python",
   "nbconvert_exporter": "python",
   "pygments_lexer": "ipython3",
   "version": "3.6.1"
  }
 },
 "nbformat": 4,
 "nbformat_minor": 2
}
