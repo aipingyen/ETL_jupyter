{
 "cells": [
  {
   "cell_type": "code",
   "execution_count": 3,
   "metadata": {},
   "outputs": [
    {
     "name": "stdout",
     "output_type": "stream",
     "text": [
      "Collecting pymysql\n",
      "  Downloading PyMySQL-0.7.11-py2.py3-none-any.whl (78kB)\n",
      "\u001b[K    100% |████████████████████████████████| 81kB 545kB/s ta 0:00:01\n",
      "\u001b[?25hInstalling collected packages: pymysql\n",
      "Successfully installed pymysql-0.7.11\n"
     ]
    }
   ],
   "source": [
    "!pip install pymysql"
   ]
  },
  {
   "cell_type": "code",
   "execution_count": 4,
   "metadata": {
    "collapsed": true
   },
   "outputs": [],
   "source": [
    "import math \n",
    "import pymysql \n",
    "import sys \n",
    "import time \n",
    "\n",
    "class mySQL_project: \n",
    "    IP = '192.168.196.36' \n",
    "    passwd = 'team1' \n",
    "\n",
    "def sqliteToMySQL(data,count,idx): \n",
    "    conn = pymysql.connect(host=mySQL_project.IP, port=3306, user='team1', passwd=mySQL_project.passwd, db='team1',charset='utf8') \n",
    "    # cur.set_character_set('utf8') \n",
    "    cur = conn.cursor() \n",
    "    sql = 'INSERT INTO final_carPrice_update8891 VALUES (%s, %s, %s, %s, %s, %s, %s, %s, %s, %s, %s, %s, %s, %s, %s, %s, %s, %s, %s)' \n",
    "\n",
    "    try: \n",
    "\n",
    "        cur.executemany(sql, data ) \n",
    "        # time.sleep(0.3) \n",
    "        printStr = 'now is going on '+str(idx)+',which is '+str(math.floor(idx/count*100))+str('% finished') \n",
    "        sys.stdout.write('\\r' + printStr) \n",
    "        if count%50==0: \n",
    "            conn.commit() \n",
    "        if count == idx: \n",
    "            print('\\n Insert Okay') \n",
    "\n",
    "    except Exception as e: \n",
    "        print(\"sqliteToMySQL : \",e) \n",
    "        conn.rollback() \n",
    "    conn.commit() \n",
    "    conn.close()"
   ]
  },
  {
   "cell_type": "code",
   "execution_count": 6,
   "metadata": {},
   "outputs": [
    {
     "name": "stderr",
     "output_type": "stream",
     "text": [
      "/home/ubuntu/.pyenv/versions/3.6.1/lib/python3.6/site-packages/pymysql/cursors.py:166: Warning: (1265, \"Data truncated for column 'title' at row 1\")\n",
      "  result = self._query(query)\n"
     ]
    },
    {
     "name": "stdout",
     "output_type": "stream",
     "text": [
      "now is going on 43135,which is 100% finished\n",
      " Insert Okay\n"
     ]
    }
   ],
   "source": [
    "#8891 \n",
    "import sqlite3 \n",
    "from datetime import datetime \n",
    "import math \n",
    "\n",
    "conn = sqlite3.connect(\"/home/ubuntu/SQLiteDB/testCar.db\") \n",
    "cur = conn.cursor() \n",
    "count = cur.execute(\"SELECT count(*) FROM cars0629\").fetchall()[0][0] \n",
    "cur.execute(\"SELECT * FROM cars0629\") \n",
    "\n",
    "try: \n",
    "    for idx, row in enumerate(cur): \n",
    "    #source,url,title,brand,model,doors,color,cc,transmission,equip,mileage,years,location,posttime,price,certificate,gasoline,deal,offtime \n",
    "\n",
    "        data = [(row[0],row[1],row[2],row[3],row[4],row[5],row[6],row[8],row[9],row[10],row[11],row[12],row[13],datetime.fromtimestamp(math.floor(float(row[14]))),row[15],row[16],row[7],0,None)] \n",
    "\n",
    "        sqliteToMySQL(data,int(count),idx+1) \n",
    "except Exception as e: \n",
    "    print(\"8891 :\",e) \n",
    "    conn.rollback() \n",
    "\n",
    "conn.commit() \n",
    "conn.close()"
   ]
  },
  {
   "cell_type": "code",
   "execution_count": null,
   "metadata": {
    "collapsed": true
   },
   "outputs": [],
   "source": []
  }
 ],
 "metadata": {
  "kernelspec": {
   "display_name": "Python 3",
   "language": "python",
   "name": "python3"
  },
  "language_info": {
   "codemirror_mode": {
    "name": "ipython",
    "version": 3
   },
   "file_extension": ".py",
   "mimetype": "text/x-python",
   "name": "python",
   "nbconvert_exporter": "python",
   "pygments_lexer": "ipython3",
   "version": "3.6.1"
  }
 },
 "nbformat": 4,
 "nbformat_minor": 2
}
