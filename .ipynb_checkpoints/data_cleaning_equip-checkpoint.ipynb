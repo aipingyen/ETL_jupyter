{
 "cells": [
  {
   "cell_type": "code",
   "execution_count": 13,
   "metadata": {},
   "outputs": [
    {
     "name": "stdout",
     "output_type": "stream",
     "text": [
      "now goes on3040, which is 99% finisheddata clean over!\n"
     ]
    }
   ],
   "source": [
    "import sqlite3\n",
    "import sys, math\n",
    "conn = sqlite3.connect('./data/HOT.db')\n",
    "c = conn.cursor()\n",
    "# for row in c.execute('select * from HOT limit 1;'):\n",
    "data = []\n",
    "for row in c.execute('select * from HOT;'):\n",
    "    data.append(row)\n",
    "conn.commit()\n",
    "conn.close()\n",
    "\n",
    "before = ['安全氣囊','倒車影像','倒車雷達','電動後視鏡','HID','天窗','衛星導航','DVD','電動座椅','定速系統','鋁圈','ABS','皮椅']\n",
    "after  = ['安全氣囊','倒車影像','倒車雷達','電動後視鏡','HID頭燈','天窗','衛星導航','DVD','電動座椅','定速','鋁圈','ABS','皮椅']\n",
    "total = len(data)\n",
    "data_dict = list(zip(before,after))\n",
    "count = 0\n",
    "for each_data in data:\n",
    "    change = each_data[9]\n",
    "    for each_equip in data_dict:    \n",
    "        change = change.replace(each_equip[0],each_equip[1])\n",
    "    printstring = ('now goes on' + str(count) + ', which is ' + str(math.floor(int(count)/int(total)*100)) + str('% finished'))\n",
    "    sys.stdout.write('\\r' + printstring )\n",
    "    conn = sqlite3.connect('./data/HOT.db')\n",
    "    c = conn.cursor()\n",
    "    t = (change,each_data[1])\n",
    "    c.execute('UPDATE HOT SET equip = ? WHERE url = ?;', t)\n",
    "    conn.commit()\n",
    "    conn.close()\n",
    "    count+=1\n",
    "print('data clean over!')"
   ]
  },
  {
   "cell_type": "code",
   "execution_count": 1,
   "metadata": {},
   "outputs": [
    {
     "data": {
      "text/plain": [
       "zip"
      ]
     },
     "execution_count": 1,
     "metadata": {},
     "output_type": "execute_result"
    }
   ],
   "source": [
    "def vectorize(input_list):\n",
    "    standard  = ['安全氣囊','倒車影像','倒車雷達','電動後視鏡','HID頭燈','天窗','衛星導航','DVD','電動座椅','定速','鋁圈','ABS','皮椅']\n",
    "    output_list = []\n",
    "    for each in standard:\n",
    "        if each in input_list:\n",
    "            output_list.append('1')\n",
    "        else:\n",
    "            output_list.append('0')\n",
    "    return output_list"
   ]
  },
  {
   "cell_type": "code",
   "execution_count": 4,
   "metadata": {},
   "outputs": [
    {
     "data": {
      "text/plain": [
       "[(1, 3), (2, 4)]"
      ]
     },
     "execution_count": 4,
     "metadata": {},
     "output_type": "execute_result"
    }
   ],
   "source": [
    "list(zip(a,b))"
   ]
  },
  {
   "cell_type": "code",
   "execution_count": null,
   "metadata": {
    "collapsed": true
   },
   "outputs": [],
   "source": []
  }
 ],
 "metadata": {
  "kernelspec": {
   "display_name": "Python 3",
   "language": "python",
   "name": "python3"
  },
  "language_info": {
   "codemirror_mode": {
    "name": "ipython",
    "version": 3
   },
   "file_extension": ".py",
   "mimetype": "text/x-python",
   "name": "python",
   "nbconvert_exporter": "python",
   "pygments_lexer": "ipython3",
   "version": "3.6.1"
  }
 },
 "nbformat": 4,
 "nbformat_minor": 2
}
